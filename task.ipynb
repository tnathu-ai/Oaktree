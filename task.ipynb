{
 "cells": [
  {
   "attachments": {},
   "cell_type": "markdown",
   "metadata": {},
   "source": [
    "General description: these are the primary donation data analyzed in the paper, \"Examining charitable giving in real-world online donations\" \n",
    "published in Nature Communications in 2019 by Sisco and Weber. Each row represents one donation. \n",
    "\n",
    "-------Variables:\n",
    "\n",
    "amount_donated - the amount donated in US dollars.\n",
    "\n",
    "\n",
    "campaign_ID - an encrypted identifier for the campaign_ID. You can use this to tell which donations were made to the same campaign but not to trace the raw data back to the unencrypted campaign_ID. The encryption is to protect the privacy of the campaign creators and donors.\n",
    "\n",
    "\n",
    "category - the category of each campaign.\n",
    "\n",
    "\n",
    "anonymous - whether or not the donation was made anonymously to the public.\n",
    "\n",
    "\n",
    "gender - The gender of the current donor. \"F\" represents female and \"M\" represents male. These genders were estimated based on the public names of the donors. The algorithm used is provided in the supplementary materials for the paper.\n",
    "\n",
    "same_last_name - \"1\" means that the donor and the recipient had the same last name. \"0\" means that they did not (from what we could infer based on publicly displayed names). \n",
    "\n",
    "empathy - \"1\" means that an expression of empathy was detected in the message left by the current donor. \"0\" means that no expression of empathy was detected. The algorithm used is provided in the supplementary materials for the paper.\n"
   ]
  },
  {
   "cell_type": "code",
   "execution_count": 1,
   "metadata": {},
   "outputs": [],
   "source": [
    "# Import the libraries\n",
    "import pandas as pd"
   ]
  },
  {
   "cell_type": "code",
   "execution_count": 41,
   "metadata": {},
   "outputs": [
    {
     "name": "stdout",
     "output_type": "stream",
     "text": [
      "Dimension of the dataset: number of rows: 11999, number of columns: 7\n"
     ]
    },
    {
     "data": {
      "text/html": [
       "<div>\n",
       "<style scoped>\n",
       "    .dataframe tbody tr th:only-of-type {\n",
       "        vertical-align: middle;\n",
       "    }\n",
       "\n",
       "    .dataframe tbody tr th {\n",
       "        vertical-align: top;\n",
       "    }\n",
       "\n",
       "    .dataframe thead th {\n",
       "        text-align: right;\n",
       "    }\n",
       "</style>\n",
       "<table border=\"1\" class=\"dataframe\">\n",
       "  <thead>\n",
       "    <tr style=\"text-align: right;\">\n",
       "      <th></th>\n",
       "      <th>amount_donated</th>\n",
       "      <th>campaign_ID</th>\n",
       "      <th>category</th>\n",
       "      <th>anonymous</th>\n",
       "      <th>gender</th>\n",
       "      <th>same_last_name</th>\n",
       "      <th>empathy</th>\n",
       "    </tr>\n",
       "  </thead>\n",
       "  <tbody>\n",
       "    <tr>\n",
       "      <th>0</th>\n",
       "      <td>50</td>\n",
       "      <td>f3F1j8SbZZZIR/7Y9r8XUS2JwH4JNnU9zxa967TSlCAz</td>\n",
       "      <td>Medical</td>\n",
       "      <td>0</td>\n",
       "      <td>F</td>\n",
       "      <td>0.0</td>\n",
       "      <td>0</td>\n",
       "    </tr>\n",
       "    <tr>\n",
       "      <th>1</th>\n",
       "      <td>100</td>\n",
       "      <td>f3F1j8SbZZZIR/7Y9r8XUS2JwH4JNnU9zxa967TSlCAz</td>\n",
       "      <td>Medical</td>\n",
       "      <td>0</td>\n",
       "      <td>F</td>\n",
       "      <td>0.0</td>\n",
       "      <td>1</td>\n",
       "    </tr>\n",
       "    <tr>\n",
       "      <th>2</th>\n",
       "      <td>10</td>\n",
       "      <td>f3F1j8SbZZZIR/7Y9r8XUS2JwH4JNnU9zxa967TSlCAz</td>\n",
       "      <td>Medical</td>\n",
       "      <td>0</td>\n",
       "      <td>M</td>\n",
       "      <td>0.0</td>\n",
       "      <td>0</td>\n",
       "    </tr>\n",
       "  </tbody>\n",
       "</table>\n",
       "</div>"
      ],
      "text/plain": [
       "   amount_donated                                   campaign_ID category  \\\n",
       "0              50  f3F1j8SbZZZIR/7Y9r8XUS2JwH4JNnU9zxa967TSlCAz  Medical   \n",
       "1             100  f3F1j8SbZZZIR/7Y9r8XUS2JwH4JNnU9zxa967TSlCAz  Medical   \n",
       "2              10  f3F1j8SbZZZIR/7Y9r8XUS2JwH4JNnU9zxa967TSlCAz  Medical   \n",
       "\n",
       "   anonymous gender  same_last_name  empathy  \n",
       "0          0      F             0.0        0  \n",
       "1          0      F             0.0        1  \n",
       "2          0      M             0.0        0  "
      ]
     },
     "execution_count": 41,
     "metadata": {},
     "output_type": "execute_result"
    }
   ],
   "source": [
    "# read csv\n",
    "df = pd.read_csv('donor_data.csv')\n",
    "print(f'Dimension of the dataset: number of rows: {df.shape[0]}, number of columns: {df.shape[1]}')\n",
    "df.head(3)"
   ]
  },
  {
   "cell_type": "code",
   "execution_count": 42,
   "metadata": {},
   "outputs": [
    {
     "data": {
      "text/html": [
       "<div>\n",
       "<style scoped>\n",
       "    .dataframe tbody tr th:only-of-type {\n",
       "        vertical-align: middle;\n",
       "    }\n",
       "\n",
       "    .dataframe tbody tr th {\n",
       "        vertical-align: top;\n",
       "    }\n",
       "\n",
       "    .dataframe thead th {\n",
       "        text-align: right;\n",
       "    }\n",
       "</style>\n",
       "<table border=\"1\" class=\"dataframe\">\n",
       "  <thead>\n",
       "    <tr style=\"text-align: right;\">\n",
       "      <th></th>\n",
       "      <th>amount_donated</th>\n",
       "      <th>campaign_ID</th>\n",
       "      <th>category</th>\n",
       "      <th>anonymous</th>\n",
       "      <th>gender</th>\n",
       "      <th>same_last_name</th>\n",
       "      <th>empathy</th>\n",
       "    </tr>\n",
       "  </thead>\n",
       "  <tbody>\n",
       "    <tr>\n",
       "      <th>11996</th>\n",
       "      <td>25</td>\n",
       "      <td>O6D6pB+cgIR2I4snh43BNi6WyGYPNHU=</td>\n",
       "      <td>Community</td>\n",
       "      <td>0</td>\n",
       "      <td>F</td>\n",
       "      <td>0.0</td>\n",
       "      <td>0</td>\n",
       "    </tr>\n",
       "    <tr>\n",
       "      <th>11997</th>\n",
       "      <td>50</td>\n",
       "      <td>O6D6pB+cgIR2I4snh43BNi6WyGYPNHU=</td>\n",
       "      <td>Community</td>\n",
       "      <td>1</td>\n",
       "      <td>NaN</td>\n",
       "      <td>0.0</td>\n",
       "      <td>0</td>\n",
       "    </tr>\n",
       "    <tr>\n",
       "      <th>11998</th>\n",
       "      <td>25</td>\n",
       "      <td>O6D6pB+cgIR2I4snh43BNi6WyGYPNHU=</td>\n",
       "      <td>Community</td>\n",
       "      <td>0</td>\n",
       "      <td>F</td>\n",
       "      <td>0.0</td>\n",
       "      <td>0</td>\n",
       "    </tr>\n",
       "  </tbody>\n",
       "</table>\n",
       "</div>"
      ],
      "text/plain": [
       "       amount_donated                       campaign_ID   category  anonymous  \\\n",
       "11996              25  O6D6pB+cgIR2I4snh43BNi6WyGYPNHU=  Community          0   \n",
       "11997              50  O6D6pB+cgIR2I4snh43BNi6WyGYPNHU=  Community          1   \n",
       "11998              25  O6D6pB+cgIR2I4snh43BNi6WyGYPNHU=  Community          0   \n",
       "\n",
       "      gender  same_last_name  empathy  \n",
       "11996      F             0.0        0  \n",
       "11997    NaN             0.0        0  \n",
       "11998      F             0.0        0  "
      ]
     },
     "execution_count": 42,
     "metadata": {},
     "output_type": "execute_result"
    }
   ],
   "source": [
    "df.tail(3)"
   ]
  },
  {
   "cell_type": "code",
   "execution_count": 38,
   "metadata": {},
   "outputs": [
    {
     "data": {
      "text/plain": [
       "amount_donated    169\n",
       "campaign_ID       299\n",
       "category           20\n",
       "anonymous           2\n",
       "gender              2\n",
       "same_last_name      2\n",
       "empathy             2\n",
       "dtype: int64"
      ]
     },
     "execution_count": 38,
     "metadata": {},
     "output_type": "execute_result"
    }
   ],
   "source": [
    "# Number of unique values in each column\n",
    "df.nunique()"
   ]
  },
  {
   "cell_type": "code",
   "execution_count": 10,
   "metadata": {},
   "outputs": [
    {
     "data": {
      "text/plain": [
       "amount_donated       0\n",
       "campaign_ID          0\n",
       "category           105\n",
       "anonymous            0\n",
       "gender            4866\n",
       "same_last_name     174\n",
       "empathy              0\n",
       "dtype: int64"
      ]
     },
     "execution_count": 10,
     "metadata": {},
     "output_type": "execute_result"
    }
   ],
   "source": [
    "# NUmber of missing values in each column\n",
    "df.isnull().sum()"
   ]
  },
  {
   "cell_type": "code",
   "execution_count": 37,
   "metadata": {},
   "outputs": [
    {
     "name": "stdout",
     "output_type": "stream",
     "text": [
      "Number of duplicated rows: 0\n"
     ]
    },
    {
     "data": {
      "text/html": [
       "<div>\n",
       "<style scoped>\n",
       "    .dataframe tbody tr th:only-of-type {\n",
       "        vertical-align: middle;\n",
       "    }\n",
       "\n",
       "    .dataframe tbody tr th {\n",
       "        vertical-align: top;\n",
       "    }\n",
       "\n",
       "    .dataframe thead th {\n",
       "        text-align: right;\n",
       "    }\n",
       "</style>\n",
       "<table border=\"1\" class=\"dataframe\">\n",
       "  <thead>\n",
       "    <tr style=\"text-align: right;\">\n",
       "      <th></th>\n",
       "      <th>amount_donated</th>\n",
       "      <th>campaign_ID</th>\n",
       "      <th>category</th>\n",
       "      <th>anonymous</th>\n",
       "      <th>gender</th>\n",
       "      <th>same_last_name</th>\n",
       "      <th>empathy</th>\n",
       "    </tr>\n",
       "  </thead>\n",
       "  <tbody>\n",
       "  </tbody>\n",
       "</table>\n",
       "</div>"
      ],
      "text/plain": [
       "Empty DataFrame\n",
       "Columns: [amount_donated, campaign_ID, category, anonymous, gender, same_last_name, empathy]\n",
       "Index: []"
      ]
     },
     "execution_count": 37,
     "metadata": {},
     "output_type": "execute_result"
    }
   ],
   "source": [
    "# check duplication in the dataset and show duplicated rows\n",
    "print(f'Number of duplicated rows: {df.duplicated().sum()}')\n",
    "# show duplicated rows\n",
    "df[df.duplicated()]"
   ]
  },
  {
   "cell_type": "code",
   "execution_count": 39,
   "metadata": {},
   "outputs": [
    {
     "name": "stdout",
     "output_type": "stream",
     "text": [
      "Number of rows after dropping duplicated rows: 5063\n"
     ]
    }
   ],
   "source": [
    "# drop duplicated rows\n",
    "df.drop_duplicates(inplace=True)\n",
    "# check the number of rows after dropping duplicated rows\n",
    "print(f'Number of rows after dropping duplicated rows: {df.shape[0]}')"
   ]
  },
  {
   "cell_type": "code",
   "execution_count": 24,
   "metadata": {},
   "outputs": [
    {
     "name": "stdout",
     "output_type": "stream",
     "text": [
      "Number of unique values in the category column: 20\n",
      "Frequency of each category in descending order:\n",
      "Sandy                6273\n",
      "Medical              2520\n",
      "Alberta Fires         906\n",
      "Charity               430\n",
      "Sports                341\n",
      "Family                258\n",
      "Business              229\n",
      "Events                213\n",
      "Creative              136\n",
      "Education             127\n",
      "Nepal                 121\n",
      "Volunteer              68\n",
      "Community              62\n",
      "Philippine Relief      54\n",
      "Newlyweds              52\n",
      "US Storms              37\n",
      "Travel                 27\n",
      "Faith                  19\n",
      "Ecuador                15\n",
      "Emergencies             6\n",
      "Name: category, dtype: int64\n"
     ]
    }
   ],
   "source": [
    "# check speeling for similarity between rows in categorical columns\n",
    "print(f'Number of unique values in the category column: {df.category.nunique()}')\n",
    "print(f'Frequency of each category in descending order:\\n{df.category.value_counts()}')"
   ]
  },
  {
   "cell_type": "code",
   "execution_count": 30,
   "metadata": {},
   "outputs": [
    {
     "name": "stdout",
     "output_type": "stream",
     "text": [
      "Correlation between the empathy column and the other columns:\n",
      "empathy           1.000000\n",
      "amount_donated    0.004352\n",
      "same_last_name    0.003049\n",
      "anonymous        -0.099264\n",
      "Name: empathy, dtype: float64\n"
     ]
    }
   ],
   "source": [
    "# the correlation between the empathy column and the other columns\n",
    "print(f'Correlation between the empathy column and the other columns:\\n{df.corr()[\"empathy\"].sort_values(ascending=False)}')"
   ]
  },
  {
   "cell_type": "code",
   "execution_count": null,
   "metadata": {},
   "outputs": [],
   "source": []
  }
 ],
 "metadata": {
  "kernelspec": {
   "display_name": "Advanced_Programming_for_Data_Science",
   "language": "python",
   "name": "python3"
  },
  "language_info": {
   "codemirror_mode": {
    "name": "ipython",
    "version": 3
   },
   "file_extension": ".py",
   "mimetype": "text/x-python",
   "name": "python",
   "nbconvert_exporter": "python",
   "pygments_lexer": "ipython3",
   "version": "3.10.4"
  },
  "orig_nbformat": 4,
  "vscode": {
   "interpreter": {
    "hash": "15bae30939a3a864e6f9ff9e7791f7070b527cf2ea25caf36584c7573d0fe449"
   }
  }
 },
 "nbformat": 4,
 "nbformat_minor": 2
}
