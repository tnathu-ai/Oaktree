{
 "cells": [
  {
   "cell_type": "markdown",
   "metadata": {},
   "source": [
    "<h3 style=\"color:#ffc0cb;font-size:50px;font-family:Georgia;text-align:center;\"><strong>Oaktree</strong></h3>\n",
    "\n",
    "General description: these are the primary donation data analyzed in the paper, \"Examining charitable giving in real-world online donations\" \n",
    "published in Nature Communications in 2019 by Sisco and Weber. Each row represents one donation. \n",
    "\n",
    "-------Variables:\n",
    "\n",
    "amount_donated - the amount donated in US dollars.\n",
    "\n",
    "\n",
    "campaign_ID - an encrypted identifier for the campaign_ID. You can use this to tell which donations were made to the same campaign but not to trace the raw data back to the unencrypted campaign_ID. The encryption is to protect the privacy of the campaign creators and donors.\n",
    "\n",
    "\n",
    "category - the category of each campaign.\n",
    "\n",
    "\n",
    "anonymous - whether or not the donation was made anonymously to the public.\n",
    "\n",
    "\n",
    "gender - The gender of the current donor. \"F\" represents female and \"M\" represents male. These genders were estimated based on the public names of the donors. The algorithm used is provided in the supplementary materials for the paper.\n",
    "\n",
    "same_last_name - \"1\" means that the donor and the recipient had the same last name. \"0\" means that they did not (from what we could infer based on publicly displayed names). \n",
    "\n",
    "empathy - \"1\" means that an expression of empathy was detected in the message left by the current donor. \"0\" means that no expression of empathy was detected. The algorithm used is provided in the supplementary materials for the paper.\n"
   ]
  },
  {
   "cell_type": "markdown",
   "metadata": {},
   "source": [
    "<h3 style=\"color:#ffc0cb;font-size:50px;font-family:Georgia;text-align:center;\"><strong>Task 1. Data Overview</strong></h3>"
   ]
  },
  {
   "cell_type": "code",
   "execution_count": 1,
   "metadata": {},
   "outputs": [
    {
     "name": "stdout",
     "output_type": "stream",
     "text": [
      "Requirement already satisfied: cufflinks in /Users/tnathu-ai/opt/anaconda3/lib/python3.9/site-packages (0.17.3)\n",
      "Requirement already satisfied: ipywidgets>=7.0.0 in /Users/tnathu-ai/opt/anaconda3/lib/python3.9/site-packages (from cufflinks) (7.6.5)\n",
      "Requirement already satisfied: six>=1.9.0 in /Users/tnathu-ai/opt/anaconda3/lib/python3.9/site-packages (from cufflinks) (1.16.0)\n",
      "Requirement already satisfied: ipython>=5.3.0 in /Users/tnathu-ai/opt/anaconda3/lib/python3.9/site-packages (from cufflinks) (8.2.0)\n",
      "Requirement already satisfied: numpy>=1.9.2 in /Users/tnathu-ai/opt/anaconda3/lib/python3.9/site-packages (from cufflinks) (1.21.5)\n",
      "Requirement already satisfied: setuptools>=34.4.1 in /Users/tnathu-ai/opt/anaconda3/lib/python3.9/site-packages (from cufflinks) (61.2.0)\n",
      "Requirement already satisfied: plotly>=4.1.1 in /Users/tnathu-ai/opt/anaconda3/lib/python3.9/site-packages (from cufflinks) (5.6.0)\n",
      "Requirement already satisfied: pandas>=0.19.2 in /Users/tnathu-ai/opt/anaconda3/lib/python3.9/site-packages (from cufflinks) (1.4.2)\n",
      "Requirement already satisfied: colorlover>=0.2.1 in /Users/tnathu-ai/opt/anaconda3/lib/python3.9/site-packages (from cufflinks) (0.3.0)\n",
      "Requirement already satisfied: backcall in /Users/tnathu-ai/opt/anaconda3/lib/python3.9/site-packages (from ipython>=5.3.0->cufflinks) (0.2.0)\n",
      "Requirement already satisfied: appnope in /Users/tnathu-ai/opt/anaconda3/lib/python3.9/site-packages (from ipython>=5.3.0->cufflinks) (0.1.2)\n",
      "Requirement already satisfied: pickleshare in /Users/tnathu-ai/opt/anaconda3/lib/python3.9/site-packages (from ipython>=5.3.0->cufflinks) (0.7.5)\n",
      "Requirement already satisfied: traitlets>=5 in /Users/tnathu-ai/opt/anaconda3/lib/python3.9/site-packages (from ipython>=5.3.0->cufflinks) (5.1.1)\n",
      "Requirement already satisfied: prompt-toolkit!=3.0.0,!=3.0.1,<3.1.0,>=2.0.0 in /Users/tnathu-ai/opt/anaconda3/lib/python3.9/site-packages (from ipython>=5.3.0->cufflinks) (3.0.20)\n",
      "Requirement already satisfied: decorator in /Users/tnathu-ai/opt/anaconda3/lib/python3.9/site-packages (from ipython>=5.3.0->cufflinks) (5.1.1)\n",
      "Requirement already satisfied: matplotlib-inline in /Users/tnathu-ai/opt/anaconda3/lib/python3.9/site-packages (from ipython>=5.3.0->cufflinks) (0.1.2)\n",
      "Requirement already satisfied: pexpect>4.3 in /Users/tnathu-ai/opt/anaconda3/lib/python3.9/site-packages (from ipython>=5.3.0->cufflinks) (4.8.0)\n",
      "Requirement already satisfied: stack-data in /Users/tnathu-ai/opt/anaconda3/lib/python3.9/site-packages (from ipython>=5.3.0->cufflinks) (0.2.0)\n",
      "Requirement already satisfied: jedi>=0.16 in /Users/tnathu-ai/opt/anaconda3/lib/python3.9/site-packages (from ipython>=5.3.0->cufflinks) (0.18.1)\n",
      "Requirement already satisfied: pygments>=2.4.0 in /Users/tnathu-ai/opt/anaconda3/lib/python3.9/site-packages (from ipython>=5.3.0->cufflinks) (2.11.2)\n",
      "Requirement already satisfied: ipython-genutils~=0.2.0 in /Users/tnathu-ai/opt/anaconda3/lib/python3.9/site-packages (from ipywidgets>=7.0.0->cufflinks) (0.2.0)\n",
      "Requirement already satisfied: widgetsnbextension~=3.5.0 in /Users/tnathu-ai/opt/anaconda3/lib/python3.9/site-packages (from ipywidgets>=7.0.0->cufflinks) (3.5.2)\n",
      "Requirement already satisfied: nbformat>=4.2.0 in /Users/tnathu-ai/opt/anaconda3/lib/python3.9/site-packages (from ipywidgets>=7.0.0->cufflinks) (5.3.0)\n",
      "Requirement already satisfied: ipykernel>=4.5.1 in /Users/tnathu-ai/opt/anaconda3/lib/python3.9/site-packages (from ipywidgets>=7.0.0->cufflinks) (6.9.1)\n",
      "Requirement already satisfied: jupyterlab-widgets>=1.0.0 in /Users/tnathu-ai/opt/anaconda3/lib/python3.9/site-packages (from ipywidgets>=7.0.0->cufflinks) (1.0.0)\n",
      "Requirement already satisfied: debugpy<2.0,>=1.0.0 in /Users/tnathu-ai/opt/anaconda3/lib/python3.9/site-packages (from ipykernel>=4.5.1->ipywidgets>=7.0.0->cufflinks) (1.5.1)\n",
      "Requirement already satisfied: jupyter-client<8.0 in /Users/tnathu-ai/opt/anaconda3/lib/python3.9/site-packages (from ipykernel>=4.5.1->ipywidgets>=7.0.0->cufflinks) (6.1.12)\n",
      "Requirement already satisfied: tornado<7.0,>=4.2 in /Users/tnathu-ai/opt/anaconda3/lib/python3.9/site-packages (from ipykernel>=4.5.1->ipywidgets>=7.0.0->cufflinks) (6.1)\n",
      "Requirement already satisfied: nest-asyncio in /Users/tnathu-ai/opt/anaconda3/lib/python3.9/site-packages (from ipykernel>=4.5.1->ipywidgets>=7.0.0->cufflinks) (1.5.5)\n",
      "Requirement already satisfied: parso<0.9.0,>=0.8.0 in /Users/tnathu-ai/opt/anaconda3/lib/python3.9/site-packages (from jedi>=0.16->ipython>=5.3.0->cufflinks) (0.8.3)\n",
      "Requirement already satisfied: pyzmq>=13 in /Users/tnathu-ai/opt/anaconda3/lib/python3.9/site-packages (from jupyter-client<8.0->ipykernel>=4.5.1->ipywidgets>=7.0.0->cufflinks) (22.3.0)\n",
      "Requirement already satisfied: jupyter-core>=4.6.0 in /Users/tnathu-ai/opt/anaconda3/lib/python3.9/site-packages (from jupyter-client<8.0->ipykernel>=4.5.1->ipywidgets>=7.0.0->cufflinks) (4.9.2)\n",
      "Requirement already satisfied: python-dateutil>=2.1 in /Users/tnathu-ai/opt/anaconda3/lib/python3.9/site-packages (from jupyter-client<8.0->ipykernel>=4.5.1->ipywidgets>=7.0.0->cufflinks) (2.8.2)\n",
      "Requirement already satisfied: fastjsonschema in /Users/tnathu-ai/opt/anaconda3/lib/python3.9/site-packages (from nbformat>=4.2.0->ipywidgets>=7.0.0->cufflinks) (2.15.1)\n",
      "Requirement already satisfied: jsonschema>=2.6 in /Users/tnathu-ai/opt/anaconda3/lib/python3.9/site-packages (from nbformat>=4.2.0->ipywidgets>=7.0.0->cufflinks) (4.4.0)\n",
      "Requirement already satisfied: pyrsistent!=0.17.0,!=0.17.1,!=0.17.2,>=0.14.0 in /Users/tnathu-ai/opt/anaconda3/lib/python3.9/site-packages (from jsonschema>=2.6->nbformat>=4.2.0->ipywidgets>=7.0.0->cufflinks) (0.18.0)\n",
      "Requirement already satisfied: attrs>=17.4.0 in /Users/tnathu-ai/opt/anaconda3/lib/python3.9/site-packages (from jsonschema>=2.6->nbformat>=4.2.0->ipywidgets>=7.0.0->cufflinks) (21.4.0)\n",
      "Requirement already satisfied: pytz>=2020.1 in /Users/tnathu-ai/opt/anaconda3/lib/python3.9/site-packages (from pandas>=0.19.2->cufflinks) (2021.3)\n",
      "Requirement already satisfied: ptyprocess>=0.5 in /Users/tnathu-ai/opt/anaconda3/lib/python3.9/site-packages (from pexpect>4.3->ipython>=5.3.0->cufflinks) (0.7.0)\n",
      "Requirement already satisfied: tenacity>=6.2.0 in /Users/tnathu-ai/opt/anaconda3/lib/python3.9/site-packages (from plotly>=4.1.1->cufflinks) (8.0.1)\n",
      "Requirement already satisfied: wcwidth in /Users/tnathu-ai/opt/anaconda3/lib/python3.9/site-packages (from prompt-toolkit!=3.0.0,!=3.0.1,<3.1.0,>=2.0.0->ipython>=5.3.0->cufflinks) (0.2.5)\n",
      "Requirement already satisfied: notebook>=4.4.1 in /Users/tnathu-ai/opt/anaconda3/lib/python3.9/site-packages (from widgetsnbextension~=3.5.0->ipywidgets>=7.0.0->cufflinks) (6.4.8)\n",
      "Requirement already satisfied: terminado>=0.8.3 in /Users/tnathu-ai/opt/anaconda3/lib/python3.9/site-packages (from notebook>=4.4.1->widgetsnbextension~=3.5.0->ipywidgets>=7.0.0->cufflinks) (0.13.1)\n",
      "Requirement already satisfied: Send2Trash>=1.8.0 in /Users/tnathu-ai/opt/anaconda3/lib/python3.9/site-packages (from notebook>=4.4.1->widgetsnbextension~=3.5.0->ipywidgets>=7.0.0->cufflinks) (1.8.0)\n",
      "Requirement already satisfied: jinja2 in /Users/tnathu-ai/opt/anaconda3/lib/python3.9/site-packages (from notebook>=4.4.1->widgetsnbextension~=3.5.0->ipywidgets>=7.0.0->cufflinks) (2.11.3)\n",
      "Requirement already satisfied: argon2-cffi in /Users/tnathu-ai/opt/anaconda3/lib/python3.9/site-packages (from notebook>=4.4.1->widgetsnbextension~=3.5.0->ipywidgets>=7.0.0->cufflinks) (21.3.0)\n",
      "Requirement already satisfied: nbconvert in /Users/tnathu-ai/opt/anaconda3/lib/python3.9/site-packages (from notebook>=4.4.1->widgetsnbextension~=3.5.0->ipywidgets>=7.0.0->cufflinks) (6.4.4)\n",
      "Requirement already satisfied: prometheus-client in /Users/tnathu-ai/opt/anaconda3/lib/python3.9/site-packages (from notebook>=4.4.1->widgetsnbextension~=3.5.0->ipywidgets>=7.0.0->cufflinks) (0.13.1)\n",
      "Requirement already satisfied: argon2-cffi-bindings in /Users/tnathu-ai/opt/anaconda3/lib/python3.9/site-packages (from argon2-cffi->notebook>=4.4.1->widgetsnbextension~=3.5.0->ipywidgets>=7.0.0->cufflinks) (21.2.0)\n",
      "Requirement already satisfied: cffi>=1.0.1 in /Users/tnathu-ai/opt/anaconda3/lib/python3.9/site-packages (from argon2-cffi-bindings->argon2-cffi->notebook>=4.4.1->widgetsnbextension~=3.5.0->ipywidgets>=7.0.0->cufflinks) (1.15.0)\n",
      "Requirement already satisfied: pycparser in /Users/tnathu-ai/opt/anaconda3/lib/python3.9/site-packages (from cffi>=1.0.1->argon2-cffi-bindings->argon2-cffi->notebook>=4.4.1->widgetsnbextension~=3.5.0->ipywidgets>=7.0.0->cufflinks) (2.21)\n",
      "Requirement already satisfied: MarkupSafe>=0.23 in /Users/tnathu-ai/opt/anaconda3/lib/python3.9/site-packages (from jinja2->notebook>=4.4.1->widgetsnbextension~=3.5.0->ipywidgets>=7.0.0->cufflinks) (2.0.1)\n",
      "Requirement already satisfied: nbclient<0.6.0,>=0.5.0 in /Users/tnathu-ai/opt/anaconda3/lib/python3.9/site-packages (from nbconvert->notebook>=4.4.1->widgetsnbextension~=3.5.0->ipywidgets>=7.0.0->cufflinks) (0.5.13)\n",
      "Requirement already satisfied: entrypoints>=0.2.2 in /Users/tnathu-ai/opt/anaconda3/lib/python3.9/site-packages (from nbconvert->notebook>=4.4.1->widgetsnbextension~=3.5.0->ipywidgets>=7.0.0->cufflinks) (0.4)\n",
      "Requirement already satisfied: pandocfilters>=1.4.1 in /Users/tnathu-ai/opt/anaconda3/lib/python3.9/site-packages (from nbconvert->notebook>=4.4.1->widgetsnbextension~=3.5.0->ipywidgets>=7.0.0->cufflinks) (1.5.0)\n",
      "Requirement already satisfied: testpath in /Users/tnathu-ai/opt/anaconda3/lib/python3.9/site-packages (from nbconvert->notebook>=4.4.1->widgetsnbextension~=3.5.0->ipywidgets>=7.0.0->cufflinks) (0.5.0)\n",
      "Requirement already satisfied: defusedxml in /Users/tnathu-ai/opt/anaconda3/lib/python3.9/site-packages (from nbconvert->notebook>=4.4.1->widgetsnbextension~=3.5.0->ipywidgets>=7.0.0->cufflinks) (0.7.1)\n",
      "Requirement already satisfied: beautifulsoup4 in /Users/tnathu-ai/opt/anaconda3/lib/python3.9/site-packages (from nbconvert->notebook>=4.4.1->widgetsnbextension~=3.5.0->ipywidgets>=7.0.0->cufflinks) (4.11.1)\n",
      "Requirement already satisfied: jupyterlab-pygments in /Users/tnathu-ai/opt/anaconda3/lib/python3.9/site-packages (from nbconvert->notebook>=4.4.1->widgetsnbextension~=3.5.0->ipywidgets>=7.0.0->cufflinks) (0.1.2)\n",
      "Requirement already satisfied: bleach in /Users/tnathu-ai/opt/anaconda3/lib/python3.9/site-packages (from nbconvert->notebook>=4.4.1->widgetsnbextension~=3.5.0->ipywidgets>=7.0.0->cufflinks) (4.1.0)\n",
      "Requirement already satisfied: mistune<2,>=0.8.1 in /Users/tnathu-ai/opt/anaconda3/lib/python3.9/site-packages (from nbconvert->notebook>=4.4.1->widgetsnbextension~=3.5.0->ipywidgets>=7.0.0->cufflinks) (0.8.4)\n",
      "Requirement already satisfied: soupsieve>1.2 in /Users/tnathu-ai/opt/anaconda3/lib/python3.9/site-packages (from beautifulsoup4->nbconvert->notebook>=4.4.1->widgetsnbextension~=3.5.0->ipywidgets>=7.0.0->cufflinks) (2.3.1)\n",
      "Requirement already satisfied: webencodings in /Users/tnathu-ai/opt/anaconda3/lib/python3.9/site-packages (from bleach->nbconvert->notebook>=4.4.1->widgetsnbextension~=3.5.0->ipywidgets>=7.0.0->cufflinks) (0.5.1)\n",
      "Requirement already satisfied: packaging in /Users/tnathu-ai/opt/anaconda3/lib/python3.9/site-packages (from bleach->nbconvert->notebook>=4.4.1->widgetsnbextension~=3.5.0->ipywidgets>=7.0.0->cufflinks) (21.3)\n",
      "Requirement already satisfied: pyparsing!=3.0.5,>=2.0.2 in /Users/tnathu-ai/opt/anaconda3/lib/python3.9/site-packages (from packaging->bleach->nbconvert->notebook>=4.4.1->widgetsnbextension~=3.5.0->ipywidgets>=7.0.0->cufflinks) (3.0.4)\n",
      "Requirement already satisfied: executing in /Users/tnathu-ai/opt/anaconda3/lib/python3.9/site-packages (from stack-data->ipython>=5.3.0->cufflinks) (0.8.3)\n",
      "Requirement already satisfied: asttokens in /Users/tnathu-ai/opt/anaconda3/lib/python3.9/site-packages (from stack-data->ipython>=5.3.0->cufflinks) (2.0.5)\n",
      "Requirement already satisfied: pure-eval in /Users/tnathu-ai/opt/anaconda3/lib/python3.9/site-packages (from stack-data->ipython>=5.3.0->cufflinks) (0.2.2)\n"
     ]
    },
    {
     "data": {
      "text/html": [
       "        <script type=\"text/javascript\">\n",
       "        window.PlotlyConfig = {MathJaxConfig: 'local'};\n",
       "        if (window.MathJax) {MathJax.Hub.Config({SVG: {font: \"STIX-Web\"}});}\n",
       "        if (typeof require !== 'undefined') {\n",
       "        require.undef(\"plotly\");\n",
       "        requirejs.config({\n",
       "            paths: {\n",
       "                'plotly': ['https://cdn.plot.ly/plotly-2.9.0.min']\n",
       "            }\n",
       "        });\n",
       "        require(['plotly'], function(Plotly) {\n",
       "            window._Plotly = Plotly;\n",
       "        });\n",
       "        }\n",
       "        </script>\n",
       "        "
      ]
     },
     "metadata": {},
     "output_type": "display_data"
    }
   ],
   "source": [
    "# Import the libraries\n",
    "import pandas as pd\n",
    "import numpy as np\n",
    "from scipy.stats import t\n",
    "from scipy import stats\n",
    "from statistics import *\n",
    "from scipy.stats import shapiro\n",
    "from numpy import mean\n",
    "from numpy import std\n",
    "\n",
    "# link plotly to pandas and add the iplot method (series could not link to iplot directly)\n",
    "!pip install cufflinks\n",
    "import cufflinks as cf\n",
    "cf.go_offline()\n",
    "cf.set_config_file(offline=False, world_readable=True)\n",
    "\n",
    "# Modules for data visualization\n",
    "import seaborn as sns\n",
    "import matplotlib.pyplot as plt\n",
    "import matplotlib.patches as mpatches\n",
    "\n",
    "# import code as a function\n",
    "from src.utils import *\n",
    "\n",
    "# ignore warning\n",
    "import warnings\n",
    "warnings.filterwarnings('ignore')\n",
    "\n",
    "# set desired matplotlib gloabal figure size\n",
    "plt.rcParams[\"figure.figsize\"] = (20,10)"
   ]
  },
  {
   "cell_type": "code",
   "execution_count": 2,
   "metadata": {},
   "outputs": [
    {
     "name": "stdout",
     "output_type": "stream",
     "text": [
      "Numpy version:  1.21.5\n",
      "Pandas version:  1.4.2\n",
      "Python 3.9.12\n"
     ]
    }
   ],
   "source": [
    "# check the version of the main packages\n",
    "print(\"Numpy version: \", np.__version__)\n",
    "print(\"Pandas version: \",pd.__version__)\n",
    "! python --version"
   ]
  },
  {
   "cell_type": "markdown",
   "metadata": {},
   "source": [
    "<h3 style=\"color:#ffc0cb;font-size:50px;font-family:Georgia;text-align:center;\"><strong>Task 1. Data dimension</strong></h3>\n",
    "\n",
    "* Dimension of the dataset, i.e. the number of rows and columns\n",
    "* What are the attributes?\n",
    "* What is the data type of each attribute? And what is its range?"
   ]
  },
  {
   "cell_type": "code",
   "execution_count": 3,
   "metadata": {},
   "outputs": [
    {
     "name": "stdout",
     "output_type": "stream",
     "text": [
      "Dimension of the dataset: number of rows: 11999, number of columns: 7\n",
      "<class 'pandas.core.frame.DataFrame'>\n",
      "RangeIndex: 11999 entries, 0 to 11998\n",
      "Data columns (total 7 columns):\n",
      " #   Column          Non-Null Count  Dtype  \n",
      "---  ------          --------------  -----  \n",
      " 0   amount_donated  11999 non-null  int64  \n",
      " 1   campaign_ID     11999 non-null  object \n",
      " 2   category        11894 non-null  object \n",
      " 3   anonymous       11999 non-null  int64  \n",
      " 4   gender          7133 non-null   object \n",
      " 5   same_last_name  11825 non-null  float64\n",
      " 6   empathy         11999 non-null  int64  \n",
      "dtypes: float64(1), int64(3), object(3)\n",
      "memory usage: 656.3+ KB\n",
      "Informations of the dataset: None\n"
     ]
    }
   ],
   "source": [
    "# read csv\n",
    "df = pd.read_csv('donor_data.csv')\n",
    "print(f'Dimension of the dataset: number of rows: {df.shape[0]}, number of columns: {df.shape[1]}')\n",
    "print(f'Informations of the dataset: {df.info()}')"
   ]
  },
  {
   "cell_type": "markdown",
   "metadata": {},
   "source": [
    "### -----> OBSERVATION: \n",
    "\n",
    "+ The dataset is composed of 11999 rows and 7 columns. \n",
    "+ The dataset is composed of 3 types of data: int64, float64 and object. "
   ]
  },
  {
   "cell_type": "markdown",
   "metadata": {},
   "source": [
    "<h3 style=\"color:#ffc0cb;font-size:50px;font-family:Georgia;text-align:center;\"><strong>Task 2. Data common identifier</strong></h3>"
   ]
  },
  {
   "cell_type": "code",
   "execution_count": 4,
   "metadata": {},
   "outputs": [
    {
     "data": {
      "text/html": [
       "<div>\n",
       "<style scoped>\n",
       "    .dataframe tbody tr th:only-of-type {\n",
       "        vertical-align: middle;\n",
       "    }\n",
       "\n",
       "    .dataframe tbody tr th {\n",
       "        vertical-align: top;\n",
       "    }\n",
       "\n",
       "    .dataframe thead th {\n",
       "        text-align: right;\n",
       "    }\n",
       "</style>\n",
       "<table border=\"1\" class=\"dataframe\">\n",
       "  <thead>\n",
       "    <tr style=\"text-align: right;\">\n",
       "      <th></th>\n",
       "      <th>amount_donated</th>\n",
       "      <th>campaign_ID</th>\n",
       "      <th>category</th>\n",
       "      <th>anonymous</th>\n",
       "      <th>gender</th>\n",
       "      <th>same_last_name</th>\n",
       "      <th>empathy</th>\n",
       "    </tr>\n",
       "  </thead>\n",
       "  <tbody>\n",
       "    <tr>\n",
       "      <th>0</th>\n",
       "      <td>50</td>\n",
       "      <td>f3F1j8SbZZZIR/7Y9r8XUS2JwH4JNnU9zxa967TSlCAz</td>\n",
       "      <td>Medical</td>\n",
       "      <td>0</td>\n",
       "      <td>F</td>\n",
       "      <td>0.0</td>\n",
       "      <td>0</td>\n",
       "    </tr>\n",
       "    <tr>\n",
       "      <th>1</th>\n",
       "      <td>100</td>\n",
       "      <td>f3F1j8SbZZZIR/7Y9r8XUS2JwH4JNnU9zxa967TSlCAz</td>\n",
       "      <td>Medical</td>\n",
       "      <td>0</td>\n",
       "      <td>F</td>\n",
       "      <td>0.0</td>\n",
       "      <td>1</td>\n",
       "    </tr>\n",
       "    <tr>\n",
       "      <th>2</th>\n",
       "      <td>10</td>\n",
       "      <td>f3F1j8SbZZZIR/7Y9r8XUS2JwH4JNnU9zxa967TSlCAz</td>\n",
       "      <td>Medical</td>\n",
       "      <td>0</td>\n",
       "      <td>M</td>\n",
       "      <td>0.0</td>\n",
       "      <td>0</td>\n",
       "    </tr>\n",
       "  </tbody>\n",
       "</table>\n",
       "</div>"
      ],
      "text/plain": [
       "   amount_donated                                   campaign_ID category  \\\n",
       "0              50  f3F1j8SbZZZIR/7Y9r8XUS2JwH4JNnU9zxa967TSlCAz  Medical   \n",
       "1             100  f3F1j8SbZZZIR/7Y9r8XUS2JwH4JNnU9zxa967TSlCAz  Medical   \n",
       "2              10  f3F1j8SbZZZIR/7Y9r8XUS2JwH4JNnU9zxa967TSlCAz  Medical   \n",
       "\n",
       "   anonymous gender  same_last_name  empathy  \n",
       "0          0      F             0.0        0  \n",
       "1          0      F             0.0        1  \n",
       "2          0      M             0.0        0  "
      ]
     },
     "execution_count": 4,
     "metadata": {},
     "output_type": "execute_result"
    }
   ],
   "source": [
    "df.head(3)"
   ]
  },
  {
   "cell_type": "code",
   "execution_count": 5,
   "metadata": {},
   "outputs": [
    {
     "data": {
      "text/html": [
       "<div>\n",
       "<style scoped>\n",
       "    .dataframe tbody tr th:only-of-type {\n",
       "        vertical-align: middle;\n",
       "    }\n",
       "\n",
       "    .dataframe tbody tr th {\n",
       "        vertical-align: top;\n",
       "    }\n",
       "\n",
       "    .dataframe thead th {\n",
       "        text-align: right;\n",
       "    }\n",
       "</style>\n",
       "<table border=\"1\" class=\"dataframe\">\n",
       "  <thead>\n",
       "    <tr style=\"text-align: right;\">\n",
       "      <th></th>\n",
       "      <th>amount_donated</th>\n",
       "      <th>campaign_ID</th>\n",
       "      <th>category</th>\n",
       "      <th>anonymous</th>\n",
       "      <th>gender</th>\n",
       "      <th>same_last_name</th>\n",
       "      <th>empathy</th>\n",
       "    </tr>\n",
       "  </thead>\n",
       "  <tbody>\n",
       "    <tr>\n",
       "      <th>11996</th>\n",
       "      <td>25</td>\n",
       "      <td>O6D6pB+cgIR2I4snh43BNi6WyGYPNHU=</td>\n",
       "      <td>Community</td>\n",
       "      <td>0</td>\n",
       "      <td>F</td>\n",
       "      <td>0.0</td>\n",
       "      <td>0</td>\n",
       "    </tr>\n",
       "    <tr>\n",
       "      <th>11997</th>\n",
       "      <td>50</td>\n",
       "      <td>O6D6pB+cgIR2I4snh43BNi6WyGYPNHU=</td>\n",
       "      <td>Community</td>\n",
       "      <td>1</td>\n",
       "      <td>NaN</td>\n",
       "      <td>0.0</td>\n",
       "      <td>0</td>\n",
       "    </tr>\n",
       "    <tr>\n",
       "      <th>11998</th>\n",
       "      <td>25</td>\n",
       "      <td>O6D6pB+cgIR2I4snh43BNi6WyGYPNHU=</td>\n",
       "      <td>Community</td>\n",
       "      <td>0</td>\n",
       "      <td>F</td>\n",
       "      <td>0.0</td>\n",
       "      <td>0</td>\n",
       "    </tr>\n",
       "  </tbody>\n",
       "</table>\n",
       "</div>"
      ],
      "text/plain": [
       "       amount_donated                       campaign_ID   category  anonymous  \\\n",
       "11996              25  O6D6pB+cgIR2I4snh43BNi6WyGYPNHU=  Community          0   \n",
       "11997              50  O6D6pB+cgIR2I4snh43BNi6WyGYPNHU=  Community          1   \n",
       "11998              25  O6D6pB+cgIR2I4snh43BNi6WyGYPNHU=  Community          0   \n",
       "\n",
       "      gender  same_last_name  empathy  \n",
       "11996      F             0.0        0  \n",
       "11997    NaN             0.0        0  \n",
       "11998      F             0.0        0  "
      ]
     },
     "execution_count": 5,
     "metadata": {},
     "output_type": "execute_result"
    }
   ],
   "source": [
    "df.tail(3)"
   ]
  },
  {
   "cell_type": "markdown",
   "metadata": {},
   "source": [
    "### -------> OBSERVATION:\n",
    "\n",
    "+ The campaign_ID seems to be a unique identifier in this dataset?\n",
    "+ There are several attributes appears to be numerical but they indicates binary value, so we still need to treat them as categorical columns"
   ]
  },
  {
   "cell_type": "markdown",
   "metadata": {},
   "source": [
    "<h3 style=\"color:#ffc0cb;font-size:50px;font-family:Georgia;text-align:center;\"><strong>Task 3. Data Problems</strong></h3>"
   ]
  },
  {
   "cell_type": "markdown",
   "metadata": {},
   "source": [
    "# 1. Data type"
   ]
  },
  {
   "cell_type": "code",
   "execution_count": 6,
   "metadata": {},
   "outputs": [
    {
     "name": "stdout",
     "output_type": "stream",
     "text": [
      "Number of numeric columns:  4\n",
      "List of numeric columns:  ['amount_donated', 'anonymous', 'same_last_name', 'empathy'] \n",
      "\n",
      "Number of categorical columns:  3\n",
      "List of string columns:  ['campaign_ID', 'category', 'gender'] \n",
      "\n",
      "\n",
      "<class 'pandas.core.frame.DataFrame'>\n",
      "RangeIndex: 11999 entries, 0 to 11998\n",
      "Data columns (total 7 columns):\n",
      " #   Column          Non-Null Count  Dtype  \n",
      "---  ------          --------------  -----  \n",
      " 0   amount_donated  11999 non-null  Int64  \n",
      " 1   campaign_ID     11999 non-null  string \n",
      " 2   category        11894 non-null  string \n",
      " 3   anonymous       11999 non-null  boolean\n",
      " 4   gender          7133 non-null   string \n",
      " 5   same_last_name  11999 non-null  boolean\n",
      " 6   empathy         11999 non-null  boolean\n",
      "dtypes: Int64(1), boolean(3), string(3)\n",
      "memory usage: 457.1 KB\n"
     ]
    }
   ],
   "source": [
    "# apply the coerce_df_columns_to_best_dtype function to the dataframe\n",
    "coerce_df_columns_to_best_dtype(df, ['anonymous','same_last_name', 'empathy'])\n"
   ]
  },
  {
   "cell_type": "code",
   "execution_count": 7,
   "metadata": {},
   "outputs": [],
   "source": [
    "# from pandas_profiling import ProfileReport\n",
    "# profile_train = ProfileReport(df, minimal=True)\n",
    "# profile_train"
   ]
  },
  {
   "cell_type": "markdown",
   "metadata": {},
   "source": [
    "### --------> OBSERVATION\n",
    "\n",
    "+ We only have the `amount_donated` is a continuous numerical column \n",
    "\n",
    "+ `gender` has the most missing value (40.6%). This might because some of the people dont want to disclose their gender or the availabel gender did not fit theirs"
   ]
  },
  {
   "cell_type": "code",
   "execution_count": 8,
   "metadata": {},
   "outputs": [
    {
     "data": {
      "text/html": [
       "<div>\n",
       "<style scoped>\n",
       "    .dataframe tbody tr th:only-of-type {\n",
       "        vertical-align: middle;\n",
       "    }\n",
       "\n",
       "    .dataframe tbody tr th {\n",
       "        vertical-align: top;\n",
       "    }\n",
       "\n",
       "    .dataframe thead th {\n",
       "        text-align: right;\n",
       "    }\n",
       "</style>\n",
       "<table border=\"1\" class=\"dataframe\">\n",
       "  <thead>\n",
       "    <tr style=\"text-align: right;\">\n",
       "      <th></th>\n",
       "      <th>count</th>\n",
       "      <th>mean</th>\n",
       "      <th>std</th>\n",
       "      <th>min</th>\n",
       "      <th>25%</th>\n",
       "      <th>50%</th>\n",
       "      <th>75%</th>\n",
       "      <th>max</th>\n",
       "    </tr>\n",
       "  </thead>\n",
       "  <tbody>\n",
       "    <tr>\n",
       "      <th>amount_donated</th>\n",
       "      <td>11999.0</td>\n",
       "      <td>94.636553</td>\n",
       "      <td>204.020417</td>\n",
       "      <td>2.0</td>\n",
       "      <td>25.0</td>\n",
       "      <td>50.0</td>\n",
       "      <td>100.0</td>\n",
       "      <td>8980.0</td>\n",
       "    </tr>\n",
       "  </tbody>\n",
       "</table>\n",
       "</div>"
      ],
      "text/plain": [
       "                  count       mean         std  min   25%   50%    75%     max\n",
       "amount_donated  11999.0  94.636553  204.020417  2.0  25.0  50.0  100.0  8980.0"
      ]
     },
     "execution_count": 8,
     "metadata": {},
     "output_type": "execute_result"
    }
   ],
   "source": [
    "# describe \n",
    "df.describe().T"
   ]
  },
  {
   "cell_type": "code",
   "execution_count": 9,
   "metadata": {},
   "outputs": [
    {
     "data": {
      "text/plain": [
       "[{'mean': 94.63655304608717,\n",
       "  'iqr': 75.0,\n",
       "  'cilo': 48.92504969036672,\n",
       "  'cihi': 51.07495030963328,\n",
       "  'whishi': 211,\n",
       "  'whislo': 2,\n",
       "  'fliers': array([ 250,  360,  500, 1000,  250,  250,  250,  500,  500,  250,  250,\n",
       "          250, 1000,  350,  250,  500, 1000,  250,  500,  500,  300,  500,\n",
       "          260,  250, 1000,  300,  300,  500,  250, 1000,  500,  500,  235,\n",
       "          235,  350,  235,  320,  335,  400,  250,  335,  335,  235,  235,\n",
       "          235,  255, 2500,  500,  250,  400,  500,  250,  500,  500,  400,\n",
       "          250,  250,  250,  250,  500,  250,  500,  500,  250,  250,  300,\n",
       "          250,  300,  400,  250,  500,  500,  270,  500,  500,  500,  500,\n",
       "          500, 1000,  500,  500,  500,  600,  250,  250,  250,  250,  300,\n",
       "          250,  250,  500,  525,  400,  250,  500, 1000, 1000,  500, 1000,\n",
       "         2500,  500,  500,  500, 5000,  500,  734, 1700,  300,  250,  300,\n",
       "          500,  250,  250,  250,  500,  330,  300,  500,  300,  500,  300,\n",
       "          250,  500,  300,  250,  300,  250, 1000,  420,  300,  400,  400,\n",
       "          250,  250,  500,  500,  300,  250,  500,  250,  250,  450,  500,\n",
       "          500, 1000,  250,  500,  500,  400,  300,  300,  250,  500,  250,\n",
       "          250,  300,  300,  250,  300,  250,  500,  300,  701,  300, 1000,\n",
       "          500,  500, 1000,  500,  500,  400,  400,  250,  500,  705,  350,\n",
       "         1000,  250,  400,  300,  250,  500,  300,  500,  300,  250,  250,\n",
       "         1000, 1000,  500,  500,  250,  250, 1000, 1000,  500,  250, 5000,\n",
       "          250,  250,  500,  250,  500,  300, 2500,  250,  500, 1000,  250,\n",
       "          300,  250,  300,  500,  500,  250,  250,  500,  500, 1000, 1000,\n",
       "          500,  300,  300,  300,  300,  250,  300, 1500,  400,  500,  400,\n",
       "          250,  982,  250,  250, 1000,  500, 1400,  300, 5555,  300,  500,\n",
       "          500,  300,  500,  360, 3405,  500,  300,  300, 1000,  300,  300,\n",
       "          250,  250,  250,  500,  250,  500,  600,  500,  250,  400,  300,\n",
       "          250,  250,  250,  500,  250,  222,  250,  300,  418,  250,  250,\n",
       "          250,  250,  300,  250,  500,  300,  500,  400, 1000,  500,  500,\n",
       "          500,  500,  300,  800,  300, 1800,  250,  500,  250, 1000,  300,\n",
       "          275,  230,  300,  220,  259,  683,  250,  250,  700,  250,  268,\n",
       "          250,  250, 1000,  250,  500,  500,  300, 1000,  300,  500, 1500,\n",
       "          250,  250,  300,  300,  250,  250, 1000, 1500,  300,  250,  250,\n",
       "          500, 1000,  400,  350,  300,  500,  500,  500,  500, 1000,  500,\n",
       "         1000,  500,  300, 3200,  500, 1000,  500,  300,  300,  500,  500,\n",
       "         3700,  300,  500,  500,  550,  500,  300, 1000,  250,  250, 2000,\n",
       "          500,  400,  250,  500, 1000,  250,  250,  250,  300,  500,  500,\n",
       "         1000,  532,  250,  500,  250,  250,  500,  300,  300,  250,  250,\n",
       "          500,  400,  500,  500,  250,  250,  250,  250,  250,  335,  250,\n",
       "          400,  350,  250,  250,  500, 1000,  350,  700,  500,  500,  500,\n",
       "          500,  500,  500,  500,  500,  250,  500,  250,  250, 1000,  250,\n",
       "          500, 1000,  500,  250,  500,  300,  300,  500,  250,  250,  250,\n",
       "          500,  250,  250,  500,  250, 1000,  500,  250, 1000,  250,  450,\n",
       "         1362,  250,  500,  500, 1000,  912,  400,  500,  300, 1000,  250,\n",
       "          500,  500,  300,  250,  250, 1000,  500,  300,  500,  500,  250,\n",
       "          500,  500,  500, 2000, 1000, 1000, 1000,  500,  500,  500,  500,\n",
       "          500,  500,  250,  500,  300,  350,  500,  600,  250, 1000,  250,\n",
       "         1000,  300,  400,  250,  250,  250,  250,  955,  250,  500,  250,\n",
       "          650,  250,  250,  250,  250,  500,  250,  500,  500,  500,  500,\n",
       "         1000,  300,  400,  300, 2000,  500,  400,  500,  500,  350,  500,\n",
       "          500, 1000,  500,  250,  250, 1000,  250,  300,  400,  500,  250,\n",
       "          223,  500,  250,  500,  500,  300,  500,  300,  800,  500, 1000,\n",
       "         1000,  500, 1000,  250, 1000, 1245,  250,  250,  250, 1000,  500,\n",
       "          500,  500,  500,  500, 1000,  432,  300,  500, 5000,  355,  500,\n",
       "          250,  500,  250,  300,  250,  300,  290,  350,  500,  500,  300,\n",
       "         2000,  600,  250,  250,  400,  750,  500,  250,  250,  300, 2000,\n",
       "          525,  250,  300,  300,  250,  320,  500,  500,  250,  300,  250,\n",
       "          250,  250, 1000,  250,  500,  250,  500,  300, 1000,  500,  250,\n",
       "          500,  500,  300,  500, 1000,  500,  500,  400,  250,  500,  250,\n",
       "          500,  500,  500,  300,  250,  500, 1000,  500, 1000,  500,  500,\n",
       "          400,  250,  500,  250,  500,  500,  300,  500,  250,  250,  250,\n",
       "          500,  300,  500,  500,  300,  500,  500,  500,  605,  250,  500,\n",
       "          300, 5050,  300,  500,  300,  500,  500,  225,  500,  500, 1000,\n",
       "          500,  250, 1000,  500,  500, 1200,  500, 1000, 1000,  500,  300,\n",
       "         1000, 1000,  250, 1000,  500,  500, 3000, 1000,  250,  500,  500,\n",
       "          500,  250,  500,  500, 1000,  500, 1000, 1000,  500,  500,  500,\n",
       "          300,  500,  300,  500,  440,  500,  500,  500,  500,  550,  300,\n",
       "          250, 1000,  416,  500,  250,  500, 1500,  250,  250,  500,  250,\n",
       "          500, 1500,  250,  250, 1000,  416,  500,  500,  250,  250,  250,\n",
       "         2500,  500,  500,  500, 1000,  250,  500,  250,  220,  220, 1000,\n",
       "          500,  250,  400,  385,  500, 1000,  360,  750,  250,  250,  250,\n",
       "          250,  450,  600, 8980,  250,  500,  250,  250, 1000,  250,  250,\n",
       "         1000,  500,  500,  250,  250,  500,  500,  500, 2000,  300,  300,\n",
       "          250,  500,  300,  500,  500,  300,  600,  500,  385,  500, 1000,\n",
       "          500,  500,  306,  255,  600, 1230,  250,  250,  500,  250,  500,\n",
       "          235,  250,  500,  250,  500,  250,  250,  500,  300,  500,  800,\n",
       "         3055,  500,  500,  250,  250,  250,  250,  250,  250,  215,  500,\n",
       "          250,  250,  234,  250,  220,  500,  300,  250,  231,  250,  263,\n",
       "          300,  250,  500,  500,  500, 1000,  250,  750,  250,  250,  300,\n",
       "          300,  250,  250,  300,  500,  300,  500,  500,  766,  936,  540,\n",
       "          250,  300,  350,  500,  500,  300,  500,  500,  500]),\n",
       "  'q1': 25.0,\n",
       "  'med': 50.0,\n",
       "  'q3': 100.0}]"
      ]
     },
     "execution_count": 9,
     "metadata": {},
     "output_type": "execute_result"
    }
   ],
   "source": [
    "from matplotlib.cbook import boxplot_stats\n",
    "\n",
    "filter_data = df.amount_donated[~np.isnan(df.amount_donated)] # have to fliter NaN values before we use the boxplot_stats\n",
    "stats = boxplot_stats(filter_data)\n",
    "stats"
   ]
  },
  {
   "cell_type": "markdown",
   "metadata": {},
   "source": [
    "### ------> OBSERVATION\n",
    "\n",
    "The 'fliers' are outliers. \n",
    "I can see some an outlier values in `amount_donated`. Let's investigate them further to see if they are real outliers\n",
    "\n",
    "# Visualize the `amount_donated` Outliers"
   ]
  },
  {
   "cell_type": "code",
   "execution_count": 10,
   "metadata": {},
   "outputs": [
    {
     "data": {
      "text/plain": [
       "<AxesSubplot:>"
      ]
     },
     "execution_count": 10,
     "metadata": {},
     "output_type": "execute_result"
    },
    {
     "data": {
      "image/png": "[encoded data removed]",
      "text/plain": [
       "<Figure size 1440x720 with 1 Axes>"
      ]
     },
     "metadata": {},
     "output_type": "display_data"
    }
   ],
   "source": [
    "# boxplot after removing outliers\n",
    "sns.boxplot(data=df.amount_donated,orient=\"h\",color=\"pink\")"
   ]
  },
  {
   "cell_type": "markdown",
   "metadata": {},
   "source": [
    "# Missing values\n",
    "\n",
    "find the best imputation or drop techniques"
   ]
  },
  {
   "cell_type": "code",
   "execution_count": 11,
   "metadata": {},
   "outputs": [
    {
     "data": {
      "text/html": [
       "<div>\n",
       "<style scoped>\n",
       "    .dataframe tbody tr th:only-of-type {\n",
       "        vertical-align: middle;\n",
       "    }\n",
       "\n",
       "    .dataframe tbody tr th {\n",
       "        vertical-align: top;\n",
       "    }\n",
       "\n",
       "    .dataframe thead th {\n",
       "        text-align: right;\n",
       "    }\n",
       "</style>\n",
       "<table border=\"1\" class=\"dataframe\">\n",
       "  <thead>\n",
       "    <tr style=\"text-align: right;\">\n",
       "      <th></th>\n",
       "      <th>Total</th>\n",
       "      <th>Percent</th>\n",
       "    </tr>\n",
       "  </thead>\n",
       "  <tbody>\n",
       "    <tr>\n",
       "      <th>gender</th>\n",
       "      <td>4866</td>\n",
       "      <td>40.55</td>\n",
       "    </tr>\n",
       "    <tr>\n",
       "      <th>category</th>\n",
       "      <td>105</td>\n",
       "      <td>0.88</td>\n",
       "    </tr>\n",
       "  </tbody>\n",
       "</table>\n",
       "</div>"
      ],
      "text/plain": [
       "          Total  Percent\n",
       "gender     4866    40.55\n",
       "category    105     0.88"
      ]
     },
     "execution_count": 11,
     "metadata": {},
     "output_type": "execute_result"
    }
   ],
   "source": [
    "missing_percentage(df)"
   ]
  },
  {
   "cell_type": "code",
   "execution_count": 12,
   "metadata": {},
   "outputs": [
    {
     "data": {
      "text/plain": [
       "<bound method DataFrame.nunique of        amount_donated                                   campaign_ID  \\\n",
       "0                  50  f3F1j8SbZZZIR/7Y9r8XUS2JwH4JNnU9zxa967TSlCAz   \n",
       "1                 100  f3F1j8SbZZZIR/7Y9r8XUS2JwH4JNnU9zxa967TSlCAz   \n",
       "2                  10  f3F1j8SbZZZIR/7Y9r8XUS2JwH4JNnU9zxa967TSlCAz   \n",
       "3                  50  f3F1j8SbZZZIR/7Y9r8XUS2JwH4JNnU9zxa967TSlCAz   \n",
       "4                 100  f3F1j8SbZZZIR/7Y9r8XUS2JwH4JNnU9zxa967TSlCAz   \n",
       "...               ...                                           ...   \n",
       "11994              15              O6D6pB+cgIR2I4snh43BNi6WyGYPNHU=   \n",
       "11995              15              O6D6pB+cgIR2I4snh43BNi6WyGYPNHU=   \n",
       "11996              25              O6D6pB+cgIR2I4snh43BNi6WyGYPNHU=   \n",
       "11997              50              O6D6pB+cgIR2I4snh43BNi6WyGYPNHU=   \n",
       "11998              25              O6D6pB+cgIR2I4snh43BNi6WyGYPNHU=   \n",
       "\n",
       "        category  anonymous gender  same_last_name  empathy  \n",
       "0        Medical      False      F           False    False  \n",
       "1        Medical      False      F           False     True  \n",
       "2        Medical      False      M           False    False  \n",
       "3        Medical      False      F           False     True  \n",
       "4        Medical      False    NaN           False    False  \n",
       "...          ...        ...    ...             ...      ...  \n",
       "11994  Community      False      F           False    False  \n",
       "11995  Community      False      F           False    False  \n",
       "11996  Community      False      F           False    False  \n",
       "11997  Community       True    NaN           False    False  \n",
       "11998  Community      False      F           False    False  \n",
       "\n",
       "[11999 rows x 7 columns]>"
      ]
     },
     "execution_count": 12,
     "metadata": {},
     "output_type": "execute_result"
    }
   ],
   "source": [
    "# NUmber of missing values in each column\n",
    "df.nunique"
   ]
  },
  {
   "cell_type": "markdown",
   "metadata": {},
   "source": [
    "### -------> OBSERVATION:\n",
    "\n",
    "+ 2 columns `gender` and `category` have missing value corresponding with 40.55% and 0.88%\n",
    "\n",
    "+ We can find the similar donor to impute the category\n",
    "+ We can impute Non-specified value for missing field in gender "
   ]
  },
  {
   "cell_type": "markdown",
   "metadata": {},
   "source": [
    "# Check duplication"
   ]
  },
  {
   "cell_type": "code",
   "execution_count": 13,
   "metadata": {},
   "outputs": [
    {
     "name": "stdout",
     "output_type": "stream",
     "text": [
      "Number of duplicated rows: 6936\n"
     ]
    },
    {
     "data": {
      "text/html": [
       "<div>\n",
       "<style scoped>\n",
       "    .dataframe tbody tr th:only-of-type {\n",
       "        vertical-align: middle;\n",
       "    }\n",
       "\n",
       "    .dataframe tbody tr th {\n",
       "        vertical-align: top;\n",
       "    }\n",
       "\n",
       "    .dataframe thead th {\n",
       "        text-align: right;\n",
       "    }\n",
       "</style>\n",
       "<table border=\"1\" class=\"dataframe\">\n",
       "  <thead>\n",
       "    <tr style=\"text-align: right;\">\n",
       "      <th></th>\n",
       "      <th>amount_donated</th>\n",
       "      <th>campaign_ID</th>\n",
       "      <th>category</th>\n",
       "      <th>anonymous</th>\n",
       "      <th>gender</th>\n",
       "      <th>same_last_name</th>\n",
       "      <th>empathy</th>\n",
       "    </tr>\n",
       "  </thead>\n",
       "  <tbody>\n",
       "    <tr>\n",
       "      <th>5</th>\n",
       "      <td>50</td>\n",
       "      <td>f3F1j8SbZZZIR/7Y9r8XUS2JwH4JNnU9zxa967TSlCAz</td>\n",
       "      <td>Medical</td>\n",
       "      <td>False</td>\n",
       "      <td>F</td>\n",
       "      <td>False</td>\n",
       "      <td>False</td>\n",
       "    </tr>\n",
       "    <tr>\n",
       "      <th>9</th>\n",
       "      <td>50</td>\n",
       "      <td>f3F1j8SbZZZIR/7Y9r8XUS2JwH4JNnU9zxa967TSlCAz</td>\n",
       "      <td>Medical</td>\n",
       "      <td>False</td>\n",
       "      <td>M</td>\n",
       "      <td>False</td>\n",
       "      <td>False</td>\n",
       "    </tr>\n",
       "    <tr>\n",
       "      <th>10</th>\n",
       "      <td>50</td>\n",
       "      <td>f3F1j8SbZZZIR/7Y9r8XUS2JwH4JNnU9zxa967TSlCAz</td>\n",
       "      <td>Medical</td>\n",
       "      <td>False</td>\n",
       "      <td>NaN</td>\n",
       "      <td>False</td>\n",
       "      <td>False</td>\n",
       "    </tr>\n",
       "    <tr>\n",
       "      <th>13</th>\n",
       "      <td>50</td>\n",
       "      <td>f3F1j8SbZZZIR/7Y9r8XUS2JwH4JNnU9zxa967TSlCAz</td>\n",
       "      <td>Medical</td>\n",
       "      <td>False</td>\n",
       "      <td>F</td>\n",
       "      <td>False</td>\n",
       "      <td>False</td>\n",
       "    </tr>\n",
       "    <tr>\n",
       "      <th>15</th>\n",
       "      <td>50</td>\n",
       "      <td>f3F1j8SbZZZIR/7Y9r8XUS2JwH4JNnU9zxa967TSlCAz</td>\n",
       "      <td>Medical</td>\n",
       "      <td>False</td>\n",
       "      <td>F</td>\n",
       "      <td>False</td>\n",
       "      <td>False</td>\n",
       "    </tr>\n",
       "    <tr>\n",
       "      <th>...</th>\n",
       "      <td>...</td>\n",
       "      <td>...</td>\n",
       "      <td>...</td>\n",
       "      <td>...</td>\n",
       "      <td>...</td>\n",
       "      <td>...</td>\n",
       "      <td>...</td>\n",
       "    </tr>\n",
       "    <tr>\n",
       "      <th>11992</th>\n",
       "      <td>25</td>\n",
       "      <td>O6D6pB+cgIR2I4snh43BNi6WyGYPNHU=</td>\n",
       "      <td>Community</td>\n",
       "      <td>False</td>\n",
       "      <td>NaN</td>\n",
       "      <td>False</td>\n",
       "      <td>False</td>\n",
       "    </tr>\n",
       "    <tr>\n",
       "      <th>11993</th>\n",
       "      <td>25</td>\n",
       "      <td>O6D6pB+cgIR2I4snh43BNi6WyGYPNHU=</td>\n",
       "      <td>Community</td>\n",
       "      <td>False</td>\n",
       "      <td>F</td>\n",
       "      <td>False</td>\n",
       "      <td>False</td>\n",
       "    </tr>\n",
       "    <tr>\n",
       "      <th>11995</th>\n",
       "      <td>15</td>\n",
       "      <td>O6D6pB+cgIR2I4snh43BNi6WyGYPNHU=</td>\n",
       "      <td>Community</td>\n",
       "      <td>False</td>\n",
       "      <td>F</td>\n",
       "      <td>False</td>\n",
       "      <td>False</td>\n",
       "    </tr>\n",
       "    <tr>\n",
       "      <th>11996</th>\n",
       "      <td>25</td>\n",
       "      <td>O6D6pB+cgIR2I4snh43BNi6WyGYPNHU=</td>\n",
       "      <td>Community</td>\n",
       "      <td>False</td>\n",
       "      <td>F</td>\n",
       "      <td>False</td>\n",
       "      <td>False</td>\n",
       "    </tr>\n",
       "    <tr>\n",
       "      <th>11998</th>\n",
       "      <td>25</td>\n",
       "      <td>O6D6pB+cgIR2I4snh43BNi6WyGYPNHU=</td>\n",
       "      <td>Community</td>\n",
       "      <td>False</td>\n",
       "      <td>F</td>\n",
       "      <td>False</td>\n",
       "      <td>False</td>\n",
       "    </tr>\n",
       "  </tbody>\n",
       "</table>\n",
       "<p>6936 rows × 7 columns</p>\n",
       "</div>"
      ],
      "text/plain": [
       "       amount_donated                                   campaign_ID  \\\n",
       "5                  50  f3F1j8SbZZZIR/7Y9r8XUS2JwH4JNnU9zxa967TSlCAz   \n",
       "9                  50  f3F1j8SbZZZIR/7Y9r8XUS2JwH4JNnU9zxa967TSlCAz   \n",
       "10                 50  f3F1j8SbZZZIR/7Y9r8XUS2JwH4JNnU9zxa967TSlCAz   \n",
       "13                 50  f3F1j8SbZZZIR/7Y9r8XUS2JwH4JNnU9zxa967TSlCAz   \n",
       "15                 50  f3F1j8SbZZZIR/7Y9r8XUS2JwH4JNnU9zxa967TSlCAz   \n",
       "...               ...                                           ...   \n",
       "11992              25              O6D6pB+cgIR2I4snh43BNi6WyGYPNHU=   \n",
       "11993              25              O6D6pB+cgIR2I4snh43BNi6WyGYPNHU=   \n",
       "11995              15              O6D6pB+cgIR2I4snh43BNi6WyGYPNHU=   \n",
       "11996              25              O6D6pB+cgIR2I4snh43BNi6WyGYPNHU=   \n",
       "11998              25              O6D6pB+cgIR2I4snh43BNi6WyGYPNHU=   \n",
       "\n",
       "        category  anonymous gender  same_last_name  empathy  \n",
       "5        Medical      False      F           False    False  \n",
       "9        Medical      False      M           False    False  \n",
       "10       Medical      False    NaN           False    False  \n",
       "13       Medical      False      F           False    False  \n",
       "15       Medical      False      F           False    False  \n",
       "...          ...        ...    ...             ...      ...  \n",
       "11992  Community      False    NaN           False    False  \n",
       "11993  Community      False      F           False    False  \n",
       "11995  Community      False      F           False    False  \n",
       "11996  Community      False      F           False    False  \n",
       "11998  Community      False      F           False    False  \n",
       "\n",
       "[6936 rows x 7 columns]"
      ]
     },
     "execution_count": 13,
     "metadata": {},
     "output_type": "execute_result"
    }
   ],
   "source": [
    "# check duplication in the dataset and show duplicated rows\n",
    "print(f'Number of duplicated rows: {df.duplicated().sum()}')\n",
    "# show duplicated rows\n",
    "df[df.duplicated()]"
   ]
  },
  {
   "cell_type": "code",
   "execution_count": 14,
   "metadata": {},
   "outputs": [
    {
     "name": "stdout",
     "output_type": "stream",
     "text": [
      "Number of duplicated rows: 10058\n"
     ]
    },
    {
     "data": {
      "text/html": [
       "<div>\n",
       "<style scoped>\n",
       "    .dataframe tbody tr th:only-of-type {\n",
       "        vertical-align: middle;\n",
       "    }\n",
       "\n",
       "    .dataframe tbody tr th {\n",
       "        vertical-align: top;\n",
       "    }\n",
       "\n",
       "    .dataframe thead th {\n",
       "        text-align: right;\n",
       "    }\n",
       "</style>\n",
       "<table border=\"1\" class=\"dataframe\">\n",
       "  <thead>\n",
       "    <tr style=\"text-align: right;\">\n",
       "      <th></th>\n",
       "      <th>amount_donated</th>\n",
       "      <th>campaign_ID</th>\n",
       "      <th>category</th>\n",
       "      <th>anonymous</th>\n",
       "      <th>gender</th>\n",
       "      <th>same_last_name</th>\n",
       "      <th>empathy</th>\n",
       "    </tr>\n",
       "  </thead>\n",
       "  <tbody>\n",
       "    <tr>\n",
       "      <th>0</th>\n",
       "      <td>50</td>\n",
       "      <td>f3F1j8SbZZZIR/7Y9r8XUS2JwH4JNnU9zxa967TSlCAz</td>\n",
       "      <td>Medical</td>\n",
       "      <td>False</td>\n",
       "      <td>F</td>\n",
       "      <td>False</td>\n",
       "      <td>False</td>\n",
       "    </tr>\n",
       "    <tr>\n",
       "      <th>1</th>\n",
       "      <td>100</td>\n",
       "      <td>f3F1j8SbZZZIR/7Y9r8XUS2JwH4JNnU9zxa967TSlCAz</td>\n",
       "      <td>Medical</td>\n",
       "      <td>False</td>\n",
       "      <td>F</td>\n",
       "      <td>False</td>\n",
       "      <td>True</td>\n",
       "    </tr>\n",
       "    <tr>\n",
       "      <th>2</th>\n",
       "      <td>10</td>\n",
       "      <td>f3F1j8SbZZZIR/7Y9r8XUS2JwH4JNnU9zxa967TSlCAz</td>\n",
       "      <td>Medical</td>\n",
       "      <td>False</td>\n",
       "      <td>M</td>\n",
       "      <td>False</td>\n",
       "      <td>False</td>\n",
       "    </tr>\n",
       "    <tr>\n",
       "      <th>3</th>\n",
       "      <td>50</td>\n",
       "      <td>f3F1j8SbZZZIR/7Y9r8XUS2JwH4JNnU9zxa967TSlCAz</td>\n",
       "      <td>Medical</td>\n",
       "      <td>False</td>\n",
       "      <td>F</td>\n",
       "      <td>False</td>\n",
       "      <td>True</td>\n",
       "    </tr>\n",
       "    <tr>\n",
       "      <th>4</th>\n",
       "      <td>100</td>\n",
       "      <td>f3F1j8SbZZZIR/7Y9r8XUS2JwH4JNnU9zxa967TSlCAz</td>\n",
       "      <td>Medical</td>\n",
       "      <td>False</td>\n",
       "      <td>NaN</td>\n",
       "      <td>False</td>\n",
       "      <td>False</td>\n",
       "    </tr>\n",
       "    <tr>\n",
       "      <th>...</th>\n",
       "      <td>...</td>\n",
       "      <td>...</td>\n",
       "      <td>...</td>\n",
       "      <td>...</td>\n",
       "      <td>...</td>\n",
       "      <td>...</td>\n",
       "      <td>...</td>\n",
       "    </tr>\n",
       "    <tr>\n",
       "      <th>11993</th>\n",
       "      <td>25</td>\n",
       "      <td>O6D6pB+cgIR2I4snh43BNi6WyGYPNHU=</td>\n",
       "      <td>Community</td>\n",
       "      <td>False</td>\n",
       "      <td>F</td>\n",
       "      <td>False</td>\n",
       "      <td>False</td>\n",
       "    </tr>\n",
       "    <tr>\n",
       "      <th>11994</th>\n",
       "      <td>15</td>\n",
       "      <td>O6D6pB+cgIR2I4snh43BNi6WyGYPNHU=</td>\n",
       "      <td>Community</td>\n",
       "      <td>False</td>\n",
       "      <td>F</td>\n",
       "      <td>False</td>\n",
       "      <td>False</td>\n",
       "    </tr>\n",
       "    <tr>\n",
       "      <th>11995</th>\n",
       "      <td>15</td>\n",
       "      <td>O6D6pB+cgIR2I4snh43BNi6WyGYPNHU=</td>\n",
       "      <td>Community</td>\n",
       "      <td>False</td>\n",
       "      <td>F</td>\n",
       "      <td>False</td>\n",
       "      <td>False</td>\n",
       "    </tr>\n",
       "    <tr>\n",
       "      <th>11996</th>\n",
       "      <td>25</td>\n",
       "      <td>O6D6pB+cgIR2I4snh43BNi6WyGYPNHU=</td>\n",
       "      <td>Community</td>\n",
       "      <td>False</td>\n",
       "      <td>F</td>\n",
       "      <td>False</td>\n",
       "      <td>False</td>\n",
       "    </tr>\n",
       "    <tr>\n",
       "      <th>11998</th>\n",
       "      <td>25</td>\n",
       "      <td>O6D6pB+cgIR2I4snh43BNi6WyGYPNHU=</td>\n",
       "      <td>Community</td>\n",
       "      <td>False</td>\n",
       "      <td>F</td>\n",
       "      <td>False</td>\n",
       "      <td>False</td>\n",
       "    </tr>\n",
       "  </tbody>\n",
       "</table>\n",
       "<p>10058 rows × 7 columns</p>\n",
       "</div>"
      ],
      "text/plain": [
       "       amount_donated                                   campaign_ID  \\\n",
       "0                  50  f3F1j8SbZZZIR/7Y9r8XUS2JwH4JNnU9zxa967TSlCAz   \n",
       "1                 100  f3F1j8SbZZZIR/7Y9r8XUS2JwH4JNnU9zxa967TSlCAz   \n",
       "2                  10  f3F1j8SbZZZIR/7Y9r8XUS2JwH4JNnU9zxa967TSlCAz   \n",
       "3                  50  f3F1j8SbZZZIR/7Y9r8XUS2JwH4JNnU9zxa967TSlCAz   \n",
       "4                 100  f3F1j8SbZZZIR/7Y9r8XUS2JwH4JNnU9zxa967TSlCAz   \n",
       "...               ...                                           ...   \n",
       "11993              25              O6D6pB+cgIR2I4snh43BNi6WyGYPNHU=   \n",
       "11994              15              O6D6pB+cgIR2I4snh43BNi6WyGYPNHU=   \n",
       "11995              15              O6D6pB+cgIR2I4snh43BNi6WyGYPNHU=   \n",
       "11996              25              O6D6pB+cgIR2I4snh43BNi6WyGYPNHU=   \n",
       "11998              25              O6D6pB+cgIR2I4snh43BNi6WyGYPNHU=   \n",
       "\n",
       "        category  anonymous gender  same_last_name  empathy  \n",
       "0        Medical      False      F           False    False  \n",
       "1        Medical      False      F           False     True  \n",
       "2        Medical      False      M           False    False  \n",
       "3        Medical      False      F           False     True  \n",
       "4        Medical      False    NaN           False    False  \n",
       "...          ...        ...    ...             ...      ...  \n",
       "11993  Community      False      F           False    False  \n",
       "11994  Community      False      F           False    False  \n",
       "11995  Community      False      F           False    False  \n",
       "11996  Community      False      F           False    False  \n",
       "11998  Community      False      F           False    False  \n",
       "\n",
       "[10058 rows x 7 columns]"
      ]
     },
     "execution_count": 14,
     "metadata": {},
     "output_type": "execute_result"
    }
   ],
   "source": [
    "condition = df.duplicated(['campaign_ID','same_last_name','amount_donated','empathy','anonymous'], keep=False)\n",
    "print(f'Number of duplicated rows: {condition.sum()}')\n",
    "\n",
    "# see the duplicated rows with the condition above\n",
    "df[condition]"
   ]
  },
  {
   "cell_type": "code",
   "execution_count": 15,
   "metadata": {},
   "outputs": [],
   "source": [
    "# # drop duplicated rows\n",
    "# df.drop_duplicates(inplace=True)\n",
    "# # check the number of rows after dropping duplicated rows\n",
    "# print(f'Number of rows after dropping duplicated rows: {df.shape[0]}')"
   ]
  },
  {
   "cell_type": "markdown",
   "metadata": {},
   "source": [
    "<h3 style=\"color:#ffc0cb;font-size:50px;font-family:Georgia;text-align:center;\"><strong>Task 3. Data Visulization </strong></h3>"
   ]
  },
  {
   "cell_type": "markdown",
   "metadata": {},
   "source": [
    "# Pearson Correlation (Relationship between all variables)\n",
    "\n",
    "Strength of the relationship between two variables\n",
    "Lets look at correlation between all features."
   ]
  },
  {
   "cell_type": "code",
   "execution_count": 16,
   "metadata": {},
   "outputs": [
    {
     "name": "stdout",
     "output_type": "stream",
     "text": [
      "Correlation between the last name column and the other columns:\n",
      "                amount_donated  anonymous  same_last_name   empathy\n",
      "amount_donated        1.000000   0.037193        0.007369  0.004352\n",
      "anonymous             0.037193   1.000000       -0.033069 -0.099264\n",
      "same_last_name        0.007369  -0.033069        1.000000 -0.004065\n",
      "empathy               0.004352  -0.099264       -0.004065  1.000000\n"
     ]
    },
    {
     "data": {
      "image/png": "[encoded data removed]",
      "text/plain": [
       "<Figure size 1440x1440 with 2 Axes>"
      ]
     },
     "metadata": {},
     "output_type": "display_data"
    }
   ],
   "source": [
    "# correlation between the same last name and other columns\n",
    "print(f'Correlation between the last name column and the other columns:\\n{df.corr()}')\n",
    "\n",
    "f,ax=plt.subplots(figsize = (20,20))\n",
    "sns.heatmap(df.corr(),annot= True,linewidths=0.5,fmt = \".1f\",ax=ax)\n",
    "plt.xticks(rotation=90)\n",
    "plt.yticks(rotation=0)\n",
    "plt.title('Correlation Map')\n",
    "plt.savefig('heatmap to indicates correlation between variables.png')\n",
    "plt.show()"
   ]
  },
  {
   "cell_type": "markdown",
   "metadata": {},
   "source": [
    "### ------> OBSERVATION\n",
    "\n",
    "+ There is no strong correlation between variables of the dataset"
   ]
  },
  {
   "cell_type": "markdown",
   "metadata": {},
   "source": [
    "# Top category has the most donor"
   ]
  },
  {
   "cell_type": "code",
   "execution_count": 17,
   "metadata": {},
   "outputs": [
    {
     "name": "stdout",
     "output_type": "stream",
     "text": [
      "Number of unique values in the category column: 20\n",
      "Frequency of each category in descending order:\n",
      "Sandy                6273\n",
      "Medical              2520\n",
      "Alberta Fires         906\n",
      "Charity               430\n",
      "Sports                341\n",
      "Family                258\n",
      "Business              229\n",
      "Events                213\n",
      "Creative              136\n",
      "Education             127\n",
      "Nepal                 121\n",
      "Volunteer              68\n",
      "Community              62\n",
      "Philippine Relief      54\n",
      "Newlyweds              52\n",
      "US Storms              37\n",
      "Travel                 27\n",
      "Faith                  19\n",
      "Ecuador                15\n",
      "Emergencies             6\n",
      "Name: category, dtype: int64\n"
     ]
    }
   ],
   "source": [
    "# check speeling for similarity between rows in categorical columns\n",
    "print(f'Number of unique values in the category column: {df.category.nunique()}')\n",
    "print(f'Frequency of each category in descending order:\\n{df.category.value_counts()}')"
   ]
  },
  {
   "cell_type": "code",
   "execution_count": 18,
   "metadata": {},
   "outputs": [
    {
     "data": {
      "application/vnd.plotly.v1+json": {
       "config": {
        "linkText": "Export to plot.ly",
        "plotlyServerURL": "https://plot.ly",
        "showLink": true
       },
       "data": [
        {
         "marker": {
          "color": "rgba(255, 0, 136, 0.6)",
          "line": {
           "color": "rgba(255, 0, 136, 1.0)",
           "width": 1
          }
         },
         "name": "category",
         "orientation": "v",
         "text": "",
         "type": "bar",
         "x": [
          "Sandy",
          "Medical",
          "Alberta Fires",
          "Charity",
          "Sports",
          "Family",
          "Business",
          "Events",
          "Creative",
          "Education",
          "Nepal",
          "Volunteer",
          "Community",
          "Philippine Relief",
          "Newlyweds",
          "US Storms",
          "Travel",
          "Faith",
          "Ecuador",
          "Emergencies"
         ],
         "y": [
          6273,
          2520,
          906,
          430,
          341,
          258,
          229,
          213,
          136,
          127,
          121,
          68,
          62,
          54,
          52,
          37,
          27,
          19,
          15,
          6
         ]
        }
       ],
       "layout": {
        "autosize": true,
        "legend": {
         "bgcolor": "#F5F6F9",
         "font": {
          "color": "#4D5663"
         }
        },
        "paper_bgcolor": "#F5F6F9",
        "plot_bgcolor": "#F5F6F9",
        "template": {
         "data": {
          "bar": [
           {
            "error_x": {
             "color": "#2a3f5f"
            },
            "error_y": {
             "color": "#2a3f5f"
            },
            "marker": {
             "line": {
              "color": "#E5ECF6",
              "width": 0.5
             },
             "pattern": {
              "fillmode": "overlay",
              "size": 10,
              "solidity": 0.2
             }
            },
            "type": "bar"
           }
          ],
          "barpolar": [
           {
            "marker": {
             "line": {
              "color": "#E5ECF6",
              "width": 0.5
             },
             "pattern": {
              "fillmode": "overlay",
              "size": 10,
              "solidity": 0.2
             }
            },
            "type": "barpolar"
           }
          ],
          "carpet": [
           {
            "aaxis": {
             "endlinecolor": "#2a3f5f",
             "gridcolor": "white",
             "linecolor": "white",
             "minorgridcolor": "white",
             "startlinecolor": "#2a3f5f"
            },
            "baxis": {
             "endlinecolor": "#2a3f5f",
             "gridcolor": "white",
             "linecolor": "white",
             "minorgridcolor": "white",
             "startlinecolor": "#2a3f5f"
            },
            "type": "carpet"
           }
          ],
          "choropleth": [
           {
            "colorbar": {
             "outlinewidth": 0,
             "ticks": ""
            },
            "type": "choropleth"
           }
          ],
          "contour": [
           {
            "colorbar": {
             "outlinewidth": 0,
             "ticks": ""
            },
            "colorscale": [
             [
              0,
              "#0d0887"
             ],
             [
              0.1111111111111111,
              "#46039f"
             ],
             [
              0.2222222222222222,
              "#7201a8"
             ],
             [
              0.3333333333333333,
              "#9c179e"
             ],
             [
              0.4444444444444444,
              "#bd3786"
             ],
             [
              0.5555555555555556,
              "#d8576b"
             ],
             [
              0.6666666666666666,
              "#ed7953"
             ],
             [
              0.7777777777777778,
              "#fb9f3a"
             ],
             [
              0.8888888888888888,
              "#fdca26"
             ],
             [
              1,
              "#f0f921"
             ]
            ],
            "type": "contour"
           }
          ],
          "contourcarpet": [
           {
            "colorbar": {
             "outlinewidth": 0,
             "ticks": ""
            },
            "type": "contourcarpet"
           }
          ],
          "heatmap": [
           {
            "colorbar": {
             "outlinewidth": 0,
             "ticks": ""
            },
            "colorscale": [
             [
              0,
              "#0d0887"
             ],
             [
              0.1111111111111111,
              "#46039f"
             ],
             [
              0.2222222222222222,
              "#7201a8"
             ],
             [
              0.3333333333333333,
              "#9c179e"
             ],
             [
              0.4444444444444444,
              "#bd3786"
             ],
             [
              0.5555555555555556,
              "#d8576b"
             ],
             [
              0.6666666666666666,
              "#ed7953"
             ],
             [
              0.7777777777777778,
              "#fb9f3a"
             ],
             [
              0.8888888888888888,
              "#fdca26"
             ],
             [
              1,
              "#f0f921"
             ]
            ],
            "type": "heatmap"
           }
          ],
          "heatmapgl": [
           {
            "colorbar": {
             "outlinewidth": 0,
             "ticks": ""
            },
            "colorscale": [
             [
              0,
              "#0d0887"
             ],
             [
              0.1111111111111111,
              "#46039f"
             ],
             [
              0.2222222222222222,
              "#7201a8"
             ],
             [
              0.3333333333333333,
              "#9c179e"
             ],
             [
              0.4444444444444444,
              "#bd3786"
             ],
             [
              0.5555555555555556,
              "#d8576b"
             ],
             [
              0.6666666666666666,
              "#ed7953"
             ],
             [
              0.7777777777777778,
              "#fb9f3a"
             ],
             [
              0.8888888888888888,
              "#fdca26"
             ],
             [
              1,
              "#f0f921"
             ]
            ],
            "type": "heatmapgl"
           }
          ],
          "histogram": [
           {
            "marker": {
             "pattern": {
              "fillmode": "overlay",
              "size": 10,
              "solidity": 0.2
             }
            },
            "type": "histogram"
           }
          ],
          "histogram2d": [
           {
            "colorbar": {
             "outlinewidth": 0,
             "ticks": ""
            },
            "colorscale": [
             [
              0,
              "#0d0887"
             ],
             [
              0.1111111111111111,
              "#46039f"
             ],
             [
              0.2222222222222222,
              "#7201a8"
             ],
             [
              0.3333333333333333,
              "#9c179e"
             ],
             [
              0.4444444444444444,
              "#bd3786"
             ],
             [
              0.5555555555555556,
              "#d8576b"
             ],
             [
              0.6666666666666666,
              "#ed7953"
             ],
             [
              0.7777777777777778,
              "#fb9f3a"
             ],
             [
              0.8888888888888888,
              "#fdca26"
             ],
             [
              1,
              "#f0f921"
             ]
            ],
            "type": "histogram2d"
           }
          ],
          "histogram2dcontour": [
           {
            "colorbar": {
             "outlinewidth": 0,
             "ticks": ""
            },
            "colorscale": [
             [
              0,
              "#0d0887"
             ],
             [
              0.1111111111111111,
              "#46039f"
             ],
             [
              0.2222222222222222,
              "#7201a8"
             ],
             [
              0.3333333333333333,
              "#9c179e"
             ],
             [
              0.4444444444444444,
              "#bd3786"
             ],
             [
              0.5555555555555556,
              "#d8576b"
             ],
             [
              0.6666666666666666,
              "#ed7953"
             ],
             [
              0.7777777777777778,
              "#fb9f3a"
             ],
             [
              0.8888888888888888,
              "#fdca26"
             ],
             [
              1,
              "#f0f921"
             ]
            ],
            "type": "histogram2dcontour"
           }
          ],
          "mesh3d": [
           {
            "colorbar": {
             "outlinewidth": 0,
             "ticks": ""
            },
            "type": "mesh3d"
           }
          ],
          "parcoords": [
           {
            "line": {
             "colorbar": {
              "outlinewidth": 0,
              "ticks": ""
             }
            },
            "type": "parcoords"
           }
          ],
          "pie": [
           {
            "automargin": true,
            "type": "pie"
           }
          ],
          "scatter": [
           {
            "marker": {
             "colorbar": {
              "outlinewidth": 0,
              "ticks": ""
             }
            },
            "type": "scatter"
           }
          ],
          "scatter3d": [
           {
            "line": {
             "colorbar": {
              "outlinewidth": 0,
              "ticks": ""
             }
            },
            "marker": {
             "colorbar": {
              "outlinewidth": 0,
              "ticks": ""
             }
            },
            "type": "scatter3d"
           }
          ],
          "scattercarpet": [
           {
            "marker": {
             "colorbar": {
              "outlinewidth": 0,
              "ticks": ""
             }
            },
            "type": "scattercarpet"
           }
          ],
          "scattergeo": [
           {
            "marker": {
             "colorbar": {
              "outlinewidth": 0,
              "ticks": ""
             }
            },
            "type": "scattergeo"
           }
          ],
          "scattergl": [
           {
            "marker": {
             "colorbar": {
              "outlinewidth": 0,
              "ticks": ""
             }
            },
            "type": "scattergl"
           }
          ],
          "scattermapbox": [
           {
            "marker": {
             "colorbar": {
              "outlinewidth": 0,
              "ticks": ""
             }
            },
            "type": "scattermapbox"
           }
          ],
          "scatterpolar": [
           {
            "marker": {
             "colorbar": {
              "outlinewidth": 0,
              "ticks": ""
             }
            },
            "type": "scatterpolar"
           }
          ],
          "scatterpolargl": [
           {
            "marker": {
             "colorbar": {
              "outlinewidth": 0,
              "ticks": ""
             }
            },
            "type": "scatterpolargl"
           }
          ],
          "scatterternary": [
           {
            "marker": {
             "colorbar": {
              "outlinewidth": 0,
              "ticks": ""
             }
            },
            "type": "scatterternary"
           }
          ],
          "surface": [
           {
            "colorbar": {
             "outlinewidth": 0,
             "ticks": ""
            },
            "colorscale": [
             [
              0,
              "#0d0887"
             ],
             [
              0.1111111111111111,
              "#46039f"
             ],
             [
              0.2222222222222222,
              "#7201a8"
             ],
             [
              0.3333333333333333,
              "#9c179e"
             ],
             [
              0.4444444444444444,
              "#bd3786"
             ],
             [
              0.5555555555555556,
              "#d8576b"
             ],
             [
              0.6666666666666666,
              "#ed7953"
             ],
             [
              0.7777777777777778,
              "#fb9f3a"
             ],
             [
              0.8888888888888888,
              "#fdca26"
             ],
             [
              1,
              "#f0f921"
             ]
            ],
            "type": "surface"
           }
          ],
          "table": [
           {
            "cells": {
             "fill": {
              "color": "#EBF0F8"
             },
             "line": {
              "color": "white"
             }
            },
            "header": {
             "fill": {
              "color": "#C8D4E3"
             },
             "line": {
              "color": "white"
             }
            },
            "type": "table"
           }
          ]
         },
         "layout": {
          "annotationdefaults": {
           "arrowcolor": "#2a3f5f",
           "arrowhead": 0,
           "arrowwidth": 1
          },
          "autotypenumbers": "strict",
          "coloraxis": {
           "colorbar": {
            "outlinewidth": 0,
            "ticks": ""
           }
          },
          "colorscale": {
           "diverging": [
            [
             0,
             "#8e0152"
            ],
            [
             0.1,
             "#c51b7d"
            ],
            [
             0.2,
             "#de77ae"
            ],
            [
             0.3,
             "#f1b6da"
            ],
            [
             0.4,
             "#fde0ef"
            ],
            [
             0.5,
             "#f7f7f7"
            ],
            [
             0.6,
             "#e6f5d0"
            ],
            [
             0.7,
             "#b8e186"
            ],
            [
             0.8,
             "#7fbc41"
            ],
            [
             0.9,
             "#4d9221"
            ],
            [
             1,
             "#276419"
            ]
           ],
           "sequential": [
            [
             0,
             "#0d0887"
            ],
            [
             0.1111111111111111,
             "#46039f"
            ],
            [
             0.2222222222222222,
             "#7201a8"
            ],
            [
             0.3333333333333333,
             "#9c179e"
            ],
            [
             0.4444444444444444,
             "#bd3786"
            ],
            [
             0.5555555555555556,
             "#d8576b"
            ],
            [
             0.6666666666666666,
             "#ed7953"
            ],
            [
             0.7777777777777778,
             "#fb9f3a"
            ],
            [
             0.8888888888888888,
             "#fdca26"
            ],
            [
             1,
             "#f0f921"
            ]
           ],
           "sequentialminus": [
            [
             0,
             "#0d0887"
            ],
            [
             0.1111111111111111,
             "#46039f"
            ],
            [
             0.2222222222222222,
             "#7201a8"
            ],
            [
             0.3333333333333333,
             "#9c179e"
            ],
            [
             0.4444444444444444,
             "#bd3786"
            ],
            [
             0.5555555555555556,
             "#d8576b"
            ],
            [
             0.6666666666666666,
             "#ed7953"
            ],
            [
             0.7777777777777778,
             "#fb9f3a"
            ],
            [
             0.8888888888888888,
             "#fdca26"
            ],
            [
             1,
             "#f0f921"
            ]
           ]
          },
          "colorway": [
           "#636efa",
           "#EF553B",
           "#00cc96",
           "#ab63fa",
           "#FFA15A",
           "#19d3f3",
           "#FF6692",
           "#B6E880",
           "#FF97FF",
           "#FECB52"
          ],
          "font": {
           "color": "#2a3f5f"
          },
          "geo": {
           "bgcolor": "white",
           "lakecolor": "white",
           "landcolor": "#E5ECF6",
           "showlakes": true,
           "showland": true,
           "subunitcolor": "white"
          },
          "hoverlabel": {
           "align": "left"
          },
          "hovermode": "closest",
          "mapbox": {
           "style": "light"
          },
          "paper_bgcolor": "white",
          "plot_bgcolor": "#E5ECF6",
          "polar": {
           "angularaxis": {
            "gridcolor": "white",
            "linecolor": "white",
            "ticks": ""
           },
           "bgcolor": "#E5ECF6",
           "radialaxis": {
            "gridcolor": "white",
            "linecolor": "white",
            "ticks": ""
           }
          },
          "scene": {
           "xaxis": {
            "backgroundcolor": "#E5ECF6",
            "gridcolor": "white",
            "gridwidth": 2,
            "linecolor": "white",
            "showbackground": true,
            "ticks": "",
            "zerolinecolor": "white"
           },
           "yaxis": {
            "backgroundcolor": "#E5ECF6",
            "gridcolor": "white",
            "gridwidth": 2,
            "linecolor": "white",
            "showbackground": true,
            "ticks": "",
            "zerolinecolor": "white"
           },
           "zaxis": {
            "backgroundcolor": "#E5ECF6",
            "gridcolor": "white",
            "gridwidth": 2,
            "linecolor": "white",
            "showbackground": true,
            "ticks": "",
            "zerolinecolor": "white"
           }
          },
          "shapedefaults": {
           "line": {
            "color": "#2a3f5f"
           }
          },
          "ternary": {
           "aaxis": {
            "gridcolor": "white",
            "linecolor": "white",
            "ticks": ""
           },
           "baxis": {
            "gridcolor": "white",
            "linecolor": "white",
            "ticks": ""
           },
           "bgcolor": "#E5ECF6",
           "caxis": {
            "gridcolor": "white",
            "linecolor": "white",
            "ticks": ""
           }
          },
          "title": {
           "x": 0.05
          },
          "xaxis": {
           "automargin": true,
           "gridcolor": "white",
           "linecolor": "white",
           "ticks": "",
           "title": {
            "standoff": 15
           },
           "zerolinecolor": "white",
           "zerolinewidth": 2
          },
          "yaxis": {
           "automargin": true,
           "gridcolor": "white",
           "linecolor": "white",
           "ticks": "",
           "title": {
            "standoff": 15
           },
           "zerolinecolor": "white",
           "zerolinewidth": 2
          }
         }
        },
        "title": {
         "font": {
          "color": "#4D5663"
         },
         "text": "Top Donor category"
        },
        "xaxis": {
         "autorange": true,
         "gridcolor": "#E1E5ED",
         "range": [
          -0.5,
          19.5
         ],
         "showgrid": true,
         "tickfont": {
          "color": "#4D5663"
         },
         "title": {
          "font": {
           "color": "#4D5663"
          },
          "text": "Category name"
         },
         "type": "category",
         "zerolinecolor": "#E1E5ED"
        },
        "yaxis": {
         "autorange": true,
         "gridcolor": "#E1E5ED",
         "range": [
          0,
          6603.1578947368425
         ],
         "showgrid": true,
         "tickfont": {
          "color": "#4D5663"
         },
         "title": {
          "font": {
           "color": "#4D5663"
          },
          "text": "Count"
         },
         "type": "linear",
         "zerolinecolor": "#E1E5ED"
        }
       }
      },
      "image/png": "[encoded data removed]",
      "text/html": [
       "<div>                            <div id=\"cc46a5ef-fe7f-4bda-a785-fd48b7c9dbcd\" class=\"plotly-graph-div\" style=\"height:525px; width:100%;\"></div>            <script type=\"text/javascript\">                require([\"plotly\"], function(Plotly) {                    window.PLOTLYENV=window.PLOTLYENV || {};\n",
       "                    window.PLOTLYENV.BASE_URL='https://plot.ly';                                    if (document.getElementById(\"cc46a5ef-fe7f-4bda-a785-fd48b7c9dbcd\")) {                    Plotly.newPlot(                        \"cc46a5ef-fe7f-4bda-a785-fd48b7c9dbcd\",                        [{\"marker\":{\"color\":\"rgba(255, 0, 136, 0.6)\",\"line\":{\"color\":\"rgba(255, 0, 136, 1.0)\",\"width\":1}},\"name\":\"category\",\"orientation\":\"v\",\"text\":\"\",\"x\":[\"Sandy\",\"Medical\",\"Alberta Fires\",\"Charity\",\"Sports\",\"Family\",\"Business\",\"Events\",\"Creative\",\"Education\",\"Nepal\",\"Volunteer\",\"Community\",\"Philippine Relief\",\"Newlyweds\",\"US Storms\",\"Travel\",\"Faith\",\"Ecuador\",\"Emergencies\"],\"y\":[6273,2520,906,430,341,258,229,213,136,127,121,68,62,54,52,37,27,19,15,6],\"type\":\"bar\"}],                        {\"legend\":{\"bgcolor\":\"#F5F6F9\",\"font\":{\"color\":\"#4D5663\"}},\"paper_bgcolor\":\"#F5F6F9\",\"plot_bgcolor\":\"#F5F6F9\",\"template\":{\"data\":{\"barpolar\":[{\"marker\":{\"line\":{\"color\":\"#E5ECF6\",\"width\":0.5},\"pattern\":{\"fillmode\":\"overlay\",\"size\":10,\"solidity\":0.2}},\"type\":\"barpolar\"}],\"bar\":[{\"error_x\":{\"color\":\"#2a3f5f\"},\"error_y\":{\"color\":\"#2a3f5f\"},\"marker\":{\"line\":{\"color\":\"#E5ECF6\",\"width\":0.5},\"pattern\":{\"fillmode\":\"overlay\",\"size\":10,\"solidity\":0.2}},\"type\":\"bar\"}],\"carpet\":[{\"aaxis\":{\"endlinecolor\":\"#2a3f5f\",\"gridcolor\":\"white\",\"linecolor\":\"white\",\"minorgridcolor\":\"white\",\"startlinecolor\":\"#2a3f5f\"},\"baxis\":{\"endlinecolor\":\"#2a3f5f\",\"gridcolor\":\"white\",\"linecolor\":\"white\",\"minorgridcolor\":\"white\",\"startlinecolor\":\"#2a3f5f\"},\"type\":\"carpet\"}],\"choropleth\":[{\"colorbar\":{\"outlinewidth\":0,\"ticks\":\"\"},\"type\":\"choropleth\"}],\"contourcarpet\":[{\"colorbar\":{\"outlinewidth\":0,\"ticks\":\"\"},\"type\":\"contourcarpet\"}],\"contour\":[{\"colorbar\":{\"outlinewidth\":0,\"ticks\":\"\"},\"colorscale\":[[0.0,\"#0d0887\"],[0.1111111111111111,\"#46039f\"],[0.2222222222222222,\"#7201a8\"],[0.3333333333333333,\"#9c179e\"],[0.4444444444444444,\"#bd3786\"],[0.5555555555555556,\"#d8576b\"],[0.6666666666666666,\"#ed7953\"],[0.7777777777777778,\"#fb9f3a\"],[0.8888888888888888,\"#fdca26\"],[1.0,\"#f0f921\"]],\"type\":\"contour\"}],\"heatmapgl\":[{\"colorbar\":{\"outlinewidth\":0,\"ticks\":\"\"},\"colorscale\":[[0.0,\"#0d0887\"],[0.1111111111111111,\"#46039f\"],[0.2222222222222222,\"#7201a8\"],[0.3333333333333333,\"#9c179e\"],[0.4444444444444444,\"#bd3786\"],[0.5555555555555556,\"#d8576b\"],[0.6666666666666666,\"#ed7953\"],[0.7777777777777778,\"#fb9f3a\"],[0.8888888888888888,\"#fdca26\"],[1.0,\"#f0f921\"]],\"type\":\"heatmapgl\"}],\"heatmap\":[{\"colorbar\":{\"outlinewidth\":0,\"ticks\":\"\"},\"colorscale\":[[0.0,\"#0d0887\"],[0.1111111111111111,\"#46039f\"],[0.2222222222222222,\"#7201a8\"],[0.3333333333333333,\"#9c179e\"],[0.4444444444444444,\"#bd3786\"],[0.5555555555555556,\"#d8576b\"],[0.6666666666666666,\"#ed7953\"],[0.7777777777777778,\"#fb9f3a\"],[0.8888888888888888,\"#fdca26\"],[1.0,\"#f0f921\"]],\"type\":\"heatmap\"}],\"histogram2dcontour\":[{\"colorbar\":{\"outlinewidth\":0,\"ticks\":\"\"},\"colorscale\":[[0.0,\"#0d0887\"],[0.1111111111111111,\"#46039f\"],[0.2222222222222222,\"#7201a8\"],[0.3333333333333333,\"#9c179e\"],[0.4444444444444444,\"#bd3786\"],[0.5555555555555556,\"#d8576b\"],[0.6666666666666666,\"#ed7953\"],[0.7777777777777778,\"#fb9f3a\"],[0.8888888888888888,\"#fdca26\"],[1.0,\"#f0f921\"]],\"type\":\"histogram2dcontour\"}],\"histogram2d\":[{\"colorbar\":{\"outlinewidth\":0,\"ticks\":\"\"},\"colorscale\":[[0.0,\"#0d0887\"],[0.1111111111111111,\"#46039f\"],[0.2222222222222222,\"#7201a8\"],[0.3333333333333333,\"#9c179e\"],[0.4444444444444444,\"#bd3786\"],[0.5555555555555556,\"#d8576b\"],[0.6666666666666666,\"#ed7953\"],[0.7777777777777778,\"#fb9f3a\"],[0.8888888888888888,\"#fdca26\"],[1.0,\"#f0f921\"]],\"type\":\"histogram2d\"}],\"histogram\":[{\"marker\":{\"pattern\":{\"fillmode\":\"overlay\",\"size\":10,\"solidity\":0.2}},\"type\":\"histogram\"}],\"mesh3d\":[{\"colorbar\":{\"outlinewidth\":0,\"ticks\":\"\"},\"type\":\"mesh3d\"}],\"parcoords\":[{\"line\":{\"colorbar\":{\"outlinewidth\":0,\"ticks\":\"\"}},\"type\":\"parcoords\"}],\"pie\":[{\"automargin\":true,\"type\":\"pie\"}],\"scatter3d\":[{\"line\":{\"colorbar\":{\"outlinewidth\":0,\"ticks\":\"\"}},\"marker\":{\"colorbar\":{\"outlinewidth\":0,\"ticks\":\"\"}},\"type\":\"scatter3d\"}],\"scattercarpet\":[{\"marker\":{\"colorbar\":{\"outlinewidth\":0,\"ticks\":\"\"}},\"type\":\"scattercarpet\"}],\"scattergeo\":[{\"marker\":{\"colorbar\":{\"outlinewidth\":0,\"ticks\":\"\"}},\"type\":\"scattergeo\"}],\"scattergl\":[{\"marker\":{\"colorbar\":{\"outlinewidth\":0,\"ticks\":\"\"}},\"type\":\"scattergl\"}],\"scattermapbox\":[{\"marker\":{\"colorbar\":{\"outlinewidth\":0,\"ticks\":\"\"}},\"type\":\"scattermapbox\"}],\"scatterpolargl\":[{\"marker\":{\"colorbar\":{\"outlinewidth\":0,\"ticks\":\"\"}},\"type\":\"scatterpolargl\"}],\"scatterpolar\":[{\"marker\":{\"colorbar\":{\"outlinewidth\":0,\"ticks\":\"\"}},\"type\":\"scatterpolar\"}],\"scatter\":[{\"marker\":{\"colorbar\":{\"outlinewidth\":0,\"ticks\":\"\"}},\"type\":\"scatter\"}],\"scatterternary\":[{\"marker\":{\"colorbar\":{\"outlinewidth\":0,\"ticks\":\"\"}},\"type\":\"scatterternary\"}],\"surface\":[{\"colorbar\":{\"outlinewidth\":0,\"ticks\":\"\"},\"colorscale\":[[0.0,\"#0d0887\"],[0.1111111111111111,\"#46039f\"],[0.2222222222222222,\"#7201a8\"],[0.3333333333333333,\"#9c179e\"],[0.4444444444444444,\"#bd3786\"],[0.5555555555555556,\"#d8576b\"],[0.6666666666666666,\"#ed7953\"],[0.7777777777777778,\"#fb9f3a\"],[0.8888888888888888,\"#fdca26\"],[1.0,\"#f0f921\"]],\"type\":\"surface\"}],\"table\":[{\"cells\":{\"fill\":{\"color\":\"#EBF0F8\"},\"line\":{\"color\":\"white\"}},\"header\":{\"fill\":{\"color\":\"#C8D4E3\"},\"line\":{\"color\":\"white\"}},\"type\":\"table\"}]},\"layout\":{\"annotationdefaults\":{\"arrowcolor\":\"#2a3f5f\",\"arrowhead\":0,\"arrowwidth\":1},\"autotypenumbers\":\"strict\",\"coloraxis\":{\"colorbar\":{\"outlinewidth\":0,\"ticks\":\"\"}},\"colorscale\":{\"diverging\":[[0,\"#8e0152\"],[0.1,\"#c51b7d\"],[0.2,\"#de77ae\"],[0.3,\"#f1b6da\"],[0.4,\"#fde0ef\"],[0.5,\"#f7f7f7\"],[0.6,\"#e6f5d0\"],[0.7,\"#b8e186\"],[0.8,\"#7fbc41\"],[0.9,\"#4d9221\"],[1,\"#276419\"]],\"sequential\":[[0.0,\"#0d0887\"],[0.1111111111111111,\"#46039f\"],[0.2222222222222222,\"#7201a8\"],[0.3333333333333333,\"#9c179e\"],[0.4444444444444444,\"#bd3786\"],[0.5555555555555556,\"#d8576b\"],[0.6666666666666666,\"#ed7953\"],[0.7777777777777778,\"#fb9f3a\"],[0.8888888888888888,\"#fdca26\"],[1.0,\"#f0f921\"]],\"sequentialminus\":[[0.0,\"#0d0887\"],[0.1111111111111111,\"#46039f\"],[0.2222222222222222,\"#7201a8\"],[0.3333333333333333,\"#9c179e\"],[0.4444444444444444,\"#bd3786\"],[0.5555555555555556,\"#d8576b\"],[0.6666666666666666,\"#ed7953\"],[0.7777777777777778,\"#fb9f3a\"],[0.8888888888888888,\"#fdca26\"],[1.0,\"#f0f921\"]]},\"colorway\":[\"#636efa\",\"#EF553B\",\"#00cc96\",\"#ab63fa\",\"#FFA15A\",\"#19d3f3\",\"#FF6692\",\"#B6E880\",\"#FF97FF\",\"#FECB52\"],\"font\":{\"color\":\"#2a3f5f\"},\"geo\":{\"bgcolor\":\"white\",\"lakecolor\":\"white\",\"landcolor\":\"#E5ECF6\",\"showlakes\":true,\"showland\":true,\"subunitcolor\":\"white\"},\"hoverlabel\":{\"align\":\"left\"},\"hovermode\":\"closest\",\"mapbox\":{\"style\":\"light\"},\"paper_bgcolor\":\"white\",\"plot_bgcolor\":\"#E5ECF6\",\"polar\":{\"angularaxis\":{\"gridcolor\":\"white\",\"linecolor\":\"white\",\"ticks\":\"\"},\"bgcolor\":\"#E5ECF6\",\"radialaxis\":{\"gridcolor\":\"white\",\"linecolor\":\"white\",\"ticks\":\"\"}},\"scene\":{\"xaxis\":{\"backgroundcolor\":\"#E5ECF6\",\"gridcolor\":\"white\",\"gridwidth\":2,\"linecolor\":\"white\",\"showbackground\":true,\"ticks\":\"\",\"zerolinecolor\":\"white\"},\"yaxis\":{\"backgroundcolor\":\"#E5ECF6\",\"gridcolor\":\"white\",\"gridwidth\":2,\"linecolor\":\"white\",\"showbackground\":true,\"ticks\":\"\",\"zerolinecolor\":\"white\"},\"zaxis\":{\"backgroundcolor\":\"#E5ECF6\",\"gridcolor\":\"white\",\"gridwidth\":2,\"linecolor\":\"white\",\"showbackground\":true,\"ticks\":\"\",\"zerolinecolor\":\"white\"}},\"shapedefaults\":{\"line\":{\"color\":\"#2a3f5f\"}},\"ternary\":{\"aaxis\":{\"gridcolor\":\"white\",\"linecolor\":\"white\",\"ticks\":\"\"},\"baxis\":{\"gridcolor\":\"white\",\"linecolor\":\"white\",\"ticks\":\"\"},\"bgcolor\":\"#E5ECF6\",\"caxis\":{\"gridcolor\":\"white\",\"linecolor\":\"white\",\"ticks\":\"\"}},\"title\":{\"x\":0.05},\"xaxis\":{\"automargin\":true,\"gridcolor\":\"white\",\"linecolor\":\"white\",\"ticks\":\"\",\"title\":{\"standoff\":15},\"zerolinecolor\":\"white\",\"zerolinewidth\":2},\"yaxis\":{\"automargin\":true,\"gridcolor\":\"white\",\"linecolor\":\"white\",\"ticks\":\"\",\"title\":{\"standoff\":15},\"zerolinecolor\":\"white\",\"zerolinewidth\":2}}},\"title\":{\"font\":{\"color\":\"#4D5663\"},\"text\":\"Top Donor category\"},\"xaxis\":{\"gridcolor\":\"#E1E5ED\",\"showgrid\":true,\"tickfont\":{\"color\":\"#4D5663\"},\"title\":{\"font\":{\"color\":\"#4D5663\"},\"text\":\"Category name\"},\"zerolinecolor\":\"#E1E5ED\"},\"yaxis\":{\"gridcolor\":\"#E1E5ED\",\"showgrid\":true,\"tickfont\":{\"color\":\"#4D5663\"},\"title\":{\"font\":{\"color\":\"#4D5663\"},\"text\":\"Count\"},\"zerolinecolor\":\"#E1E5ED\"}},                        {\"showLink\": true, \"linkText\": \"Export to plot.ly\", \"plotlyServerURL\": \"https://plot.ly\", \"responsive\": true}                    ).then(function(){\n",
       "                            \n",
       "var gd = document.getElementById('cc46a5ef-fe7f-4bda-a785-fd48b7c9dbcd');\n",
       "var x = new MutationObserver(function (mutations, observer) {{\n",
       "        var display = window.getComputedStyle(gd).display;\n",
       "        if (!display || display === 'none') {{\n",
       "            console.log([gd, 'removed!']);\n",
       "            Plotly.purge(gd);\n",
       "            observer.disconnect();\n",
       "        }}\n",
       "}});\n",
       "\n",
       "// Listen for the removal of the full notebook cells\n",
       "var notebookContainer = gd.closest('#notebook-container');\n",
       "if (notebookContainer) {{\n",
       "    x.observe(notebookContainer, {childList: true});\n",
       "}}\n",
       "\n",
       "// Listen for the clearing of the current output cell\n",
       "var outputEl = gd.closest('.output');\n",
       "if (outputEl) {{\n",
       "    x.observe(outputEl, {childList: true});\n",
       "}}\n",
       "\n",
       "                        })                };                });            </script>        </div>"
      ]
     },
     "metadata": {},
     "output_type": "display_data"
    }
   ],
   "source": [
    "temp = df[\"category\"].value_counts().head(30)\n",
    "temp.iplot(kind='bar', xTitle = 'Category name', yTitle = \"Count\", title = 'Top Donor category', color='pink')"
   ]
  },
  {
   "cell_type": "markdown",
   "metadata": {},
   "source": [
    "### ----> OBSERVATION\n",
    "\n",
    "+ Sandy has the most donor which twice as much as the second top donor Medical"
   ]
  },
  {
   "cell_type": "markdown",
   "metadata": {},
   "source": [
    "# Relationship between categorical and discrete variable"
   ]
  },
  {
   "cell_type": "code",
   "execution_count": 19,
   "metadata": {},
   "outputs": [
    {
     "data": {
      "text/plain": [
       "Index(['amount_donated', 'campaign_ID', 'category', 'anonymous', 'gender',\n",
       "       'same_last_name', 'empathy'],\n",
       "      dtype='object')"
      ]
     },
     "execution_count": 19,
     "metadata": {},
     "output_type": "execute_result"
    }
   ],
   "source": [
    "df.columns"
   ]
  },
  {
   "cell_type": "code",
   "execution_count": 20,
   "metadata": {},
   "outputs": [
    {
     "name": "stdout",
     "output_type": "stream",
     "text": [
      "gender                F     M\n",
      "category                     \n",
      "Alberta Fires       403   181\n",
      "Business             64    66\n",
      "Charity             173    92\n",
      "Community            26    10\n",
      "Creative             46    38\n",
      "Ecuador               3     5\n",
      "Education            47    27\n",
      "Emergencies           1     2\n",
      "Events               75    62\n",
      "Faith                 8     1\n",
      "Family              164    18\n",
      "Medical            1029   488\n",
      "Nepal                16    17\n",
      "Newlyweds            11    10\n",
      "Philippine Relief    11    13\n",
      "Sandy              2268  1398\n",
      "Sports              143    77\n",
      "Travel                8     9\n",
      "US Storms             4    10\n",
      "Volunteer            35    12\n"
     ]
    },
    {
     "data": {
      "text/plain": [
       "<AxesSubplot:xlabel='category'>"
      ]
     },
     "execution_count": 20,
     "metadata": {},
     "output_type": "execute_result"
    },
    {
     "data": {
      "image/png": "[encoded data removed]",
      "text/plain": [
       "<Figure size 1440x720 with 1 Axes>"
      ]
     },
     "metadata": {},
     "output_type": "display_data"
    }
   ],
   "source": [
    "# Cross tabulation between catgory and gender\n",
    "CrosstabResult=pd.crosstab(index=df['category'],columns=df['gender'])\n",
    "print(CrosstabResult)\n",
    "\n",
    "CrosstabResult.plot.bar(color=[\"pink\",\"blue\"])"
   ]
  },
  {
   "cell_type": "markdown",
   "metadata": {},
   "source": [
    "# 2 Category columns"
   ]
  },
  {
   "cell_type": "code",
   "execution_count": 21,
   "metadata": {},
   "outputs": [
    {
     "name": "stdout",
     "output_type": "stream",
     "text": [
      "gender      F     M\n",
      "empathy            \n",
      "False    4258  2462\n",
      "True      326    87\n"
     ]
    },
    {
     "data": {
      "text/plain": [
       "<AxesSubplot:xlabel='empathy'>"
      ]
     },
     "execution_count": 21,
     "metadata": {},
     "output_type": "execute_result"
    },
    {
     "data": {
      "image/png": "[encoded data removed]",
      "text/plain": [
       "<Figure size 1440x720 with 1 Axes>"
      ]
     },
     "metadata": {},
     "output_type": "display_data"
    }
   ],
   "source": [
    "# Cross tabulation between empathy and gender\n",
    "CrosstabResult=pd.crosstab(index=df['empathy'],columns=df['gender'])\n",
    "print(CrosstabResult)\n",
    "\n",
    "CrosstabResult.plot.bar(color=[\"pink\",\"blue\"])"
   ]
  },
  {
   "cell_type": "markdown",
   "metadata": {},
   "source": [
    "# Relationship between gender and the amount donated?\n",
    "\n",
    "## Histogram\n",
    "\n",
    "Most common way to represent distribution of varible is histogram that is graph which shows frequency of each value.\n",
    "\n",
    "Frequency = number of times each value appears"
   ]
  },
  {
   "cell_type": "code",
   "execution_count": 22,
   "metadata": {},
   "outputs": [
    {
     "data": {
      "text/html": [
       "<div>\n",
       "<style scoped>\n",
       "    .dataframe tbody tr th:only-of-type {\n",
       "        vertical-align: middle;\n",
       "    }\n",
       "\n",
       "    .dataframe tbody tr th {\n",
       "        vertical-align: top;\n",
       "    }\n",
       "\n",
       "    .dataframe thead th {\n",
       "        text-align: right;\n",
       "    }\n",
       "</style>\n",
       "<table border=\"1\" class=\"dataframe\">\n",
       "  <thead>\n",
       "    <tr style=\"text-align: right;\">\n",
       "      <th></th>\n",
       "      <th>count</th>\n",
       "      <th>median</th>\n",
       "      <th>mean</th>\n",
       "      <th>std</th>\n",
       "      <th>max</th>\n",
       "    </tr>\n",
       "    <tr>\n",
       "      <th>gender</th>\n",
       "      <th></th>\n",
       "      <th></th>\n",
       "      <th></th>\n",
       "      <th></th>\n",
       "      <th></th>\n",
       "    </tr>\n",
       "  </thead>\n",
       "  <tbody>\n",
       "    <tr>\n",
       "      <th>F</th>\n",
       "      <td>4584</td>\n",
       "      <td>50.0</td>\n",
       "      <td>67.336824</td>\n",
       "      <td>84.514596</td>\n",
       "      <td>1000</td>\n",
       "    </tr>\n",
       "    <tr>\n",
       "      <th>M</th>\n",
       "      <td>2549</td>\n",
       "      <td>50.0</td>\n",
       "      <td>103.546489</td>\n",
       "      <td>185.382019</td>\n",
       "      <td>5000</td>\n",
       "    </tr>\n",
       "  </tbody>\n",
       "</table>\n",
       "</div>"
      ],
      "text/plain": [
       "        count  median        mean         std   max\n",
       "gender                                             \n",
       "F        4584    50.0   67.336824   84.514596  1000\n",
       "M        2549    50.0  103.546489  185.382019  5000"
      ]
     },
     "execution_count": 22,
     "metadata": {},
     "output_type": "execute_result"
    }
   ],
   "source": [
    "#  Groups & Target Summary Stats\n",
    "df.groupby(\"gender\").amount_donated.agg([\"count\", \"median\", \"mean\", \"std\", \"max\"])"
   ]
  },
  {
   "cell_type": "code",
   "execution_count": 23,
   "metadata": {},
   "outputs": [
    {
     "data": {
      "image/png": "[encoded data removed]",
      "text/plain": [
       "<Figure size 1440x720 with 1 Axes>"
      ]
     },
     "metadata": {},
     "output_type": "display_data"
    },
    {
     "name": "stdout",
     "output_type": "stream",
     "text": [
      "Most frequent female amount_donated mean is:  41.92\n",
      "Most frequent male amount_donated mean is:  204.8\n"
     ]
    }
   ],
   "source": [
    "female = plt.hist(df[df[\"gender\"] == \"F\"].amount_donated,bins=50,label = \"female\", color=\"pink\")\n",
    "male = plt.hist(df[df[\"gender\"] == \"M\"].amount_donated,bins=50,label = \"male\", color=\"lightblue\")\n",
    "plt.legend()\n",
    "plt.xlabel(\" Mean Values\")\n",
    "plt.ylabel(\"Frequency\")\n",
    "# Scale down the x-axis\n",
    "plt.xlim(0, 1250)\n",
    "plt.title(\"Histogram of  Mean for male and female amount_donated\")\n",
    "plt.savefig('female_male_amount_donated_hist.png')\n",
    "plt.show()\n",
    "\n",
    "frequent_amount_donated_mean = female[0].max()\n",
    "index_frequent_amount_donated_mean = list(female[0]).index(frequent_amount_donated_mean)\n",
    "\n",
    "most_frequent_female_amount_donated_mean = female[1][index_frequent_amount_donated_mean]\n",
    "most_frequent_male_amount_donated_mean = male[1][index_frequent_amount_donated_mean]\n",
    "\n",
    "print(\"Most frequent female amount_donated mean is: \",most_frequent_female_amount_donated_mean)\n",
    "print(\"Most frequent male amount_donated mean is: \",most_frequent_male_amount_donated_mean)"
   ]
  },
  {
   "cell_type": "markdown",
   "metadata": {},
   "source": [
    "### ----------> OBSERVATION:\n",
    "\n",
    "We can see that the mean of the male `amount_donated` is more to the right of the graph and higher frequency which indicates male amount_donated is larger amount in general. The distribution of the histogram is right skewed means the true amount of most donators donated less than the mean indicated."
   ]
  },
  {
   "cell_type": "markdown",
   "metadata": {},
   "source": [
    "# Normality Test\n",
    "\n",
    "I need to decide whether to use parametric or nonparametric statistical methods.\n",
    "\n",
    "The Central Limit Theorem\n",
    "\n",
    "If n>30, the Central Limit Theorem can be used.\n",
    "\n",
    "Unlike the normal case, these histograms all differ in shape. In particular, they become progressively less skewed as the sample size n increases.\n",
    "\n",
    "provide convincing evidence that a sample size of n=30 is sufficient to overcome the skewness of the population distribution and give an approximately normal X sampling distribution.\n",
    "\n",
    "H₀: The data is normally distributed.\n",
    "H₁: The data is not normally distributed.\n",
    "H₀: The variances of the samples are the same.\n",
    "H₁: The variances of the samples are different.\n",
    "At α=0.05. If the p-value is >0.05, it can be said that the mean amount_donated is normally distributed."
   ]
  },
  {
   "cell_type": "code",
   "execution_count": 24,
   "metadata": {},
   "outputs": [
    {
     "name": "stdout",
     "output_type": "stream",
     "text": [
      "\n",
      " mu = 94.64 and sigma = 204.01\n",
      "\n"
     ]
    },
    {
     "data": {
      "image/png": "[encoded data removed]",
      "text/plain": [
       "<Figure size 1440x720 with 1 Axes>"
      ]
     },
     "metadata": {},
     "output_type": "display_data"
    },
    {
     "data": {
      "image/png": "[encoded data removed]",
      "text/plain": [
       "<Figure size 1440x720 with 1 Axes>"
      ]
     },
     "metadata": {},
     "output_type": "display_data"
    }
   ],
   "source": [
    "from scipy import stats\n",
    "from scipy.stats import norm, skew #for some statistics\n",
    "\n",
    "\n",
    "amount_donated = np.array(df['amount_donated'], dtype=float)\n",
    "sns.distplot(amount_donated , fit=norm,color = 'pink');\n",
    "\n",
    "# Get the fitted parameters used by the function\n",
    "(mu, sigma) = norm.fit(amount_donated)\n",
    "print( '\\n mu = {:.2f} and sigma = {:.2f}\\n'.format(mu, sigma))\n",
    "\n",
    "#Now plot the distribution\n",
    "plt.legend(['Normal dist. ($\\mu=$ {:.2f} and $\\sigma=$ {:.2f} )'.format(mu, sigma)],\n",
    "            loc='best')\n",
    "plt.ylabel('Frequency')\n",
    "plt.title('amount_donated distribution')\n",
    "\n",
    "# Get also the QQ-plot\n",
    "fig = plt.figure()\n",
    "res = stats.probplot(amount_donated, plot=plt)\n",
    "plt.show()"
   ]
  },
  {
   "cell_type": "code",
   "execution_count": 25,
   "metadata": {},
   "outputs": [
    {
     "name": "stdout",
     "output_type": "stream",
     "text": [
      "Population mean=94.637 stdv=204.012\n",
      "Sample mean=90.000 stdv=61.441\n"
     ]
    }
   ],
   "source": [
    "# Select 10 random samples\n",
    "\n",
    "df2 = df.sample(n=10, random_state=42) # random state is a seed value ensure the reproducibility of the results\n",
    "\n",
    "\n",
    "# convert specified column in the dataframe into series\n",
    "population_amount_donated = df['amount_donated'].squeeze()\n",
    "print('Population mean=%.3f stdv=%.3f' % (mean(population_amount_donated), std(population_amount_donated)))\n",
    "sample_amount_donated = df2['amount_donated'].squeeze()\n",
    "print('Sample mean=%.3f stdv=%.3f' % (mean(sample_amount_donated), std(sample_amount_donated)))"
   ]
  },
  {
   "cell_type": "markdown",
   "metadata": {},
   "source": [
    "## Shapiro-Wilk Test"
   ]
  },
  {
   "cell_type": "code",
   "execution_count": 26,
   "metadata": {},
   "outputs": [
    {
     "name": "stdout",
     "output_type": "stream",
     "text": [
      "p value:0.000\n",
      "Statistics=0.286, p=0.000\n",
      "The distribution for the population_amount_donated amount_donated: \n",
      "The p value is less than alpha 0.05 which p is significant -> Reject null hypothesis: The data is NOT normally distributed\n",
      "\n",
      "\n",
      "\n",
      "p value:0.006\n",
      "Statistics=0.286, p=0.000\n",
      "The distribution for the 10 samples amount_donated: \n",
      "The p value is less than alpha 0.05 which p is significant -> Reject null hypothesis: The data is NOT normally distributed\n",
      "\n",
      "\n",
      "\n"
     ]
    }
   ],
   "source": [
    "def check_normality_ShapiroWilk(data, data_name):\n",
    "    test_stat_normality, p_value_normality=stats.shapiro(data)\n",
    "    print(\"p value:%.3f\" % p_value_normality)\n",
    "    stat, p = shapiro(df.amount_donated)\n",
    "    print('Statistics=%.3f, p=%.3f' % (stat, p))\n",
    "    alpha_value = 0.05\n",
    "    print(f\"The distribution for the {data_name} amount_donated: \")\n",
    "    if p_value_normality < alpha_value:\n",
    "        print(f\"The p value is less than alpha {alpha_value} which p is significant -> Reject null hypothesis: The data is NOT normally distributed\")\n",
    "    else:\n",
    "        print(f\"The p value is larger than alpha {alpha_value} which p is not significant -> Fail to reject null hypothesis: The data is normally distributed\")\n",
    "    print(f\"\\n\\n\")\n",
    "\n",
    "check_normality_ShapiroWilk(population_amount_donated, \"population_amount_donated\")\n",
    "\n",
    "check_normality_ShapiroWilk(sample_amount_donated, \"10 samples\")"
   ]
  },
  {
   "cell_type": "markdown",
   "metadata": {},
   "source": [
    "# Check homogeneity of variance using Levene’s test"
   ]
  },
  {
   "cell_type": "code",
   "execution_count": 27,
   "metadata": {},
   "outputs": [
    {
     "name": "stdout",
     "output_type": "stream",
     "text": [
      "p value:0.696\n",
      "Check homogeneity of variance using Levene’s test between population amount_donated and 10 samples' amount_donated: \n",
      "The p value is larger than alpha 0.05 which p is not significant -> Fail to reject the null hypothesis. The variances of the samples are SAME because the groups have non-statistically significant difference in their variability.\n",
      "\n",
      "\n"
     ]
    }
   ],
   "source": [
    "def check_variance_homogeneity_Levene(group1, group2, group1_name, group2_name):\n",
    "    test_stat_var, p_value_var= stats.levene(group1,group2)\n",
    "    print(\"p value:%.3f\" % p_value_var)\n",
    "    alpha_value = 0.05\n",
    "    print(f\"Check homogeneity of variance using Levene’s test between {group1_name} and {group2_name}: \")\n",
    "    if p_value_var <alpha_value:\n",
    "        print(f\"The p value is less than alpha {alpha_value} which p is significant -> Reject the null hypothesis. The variances of the samples are DIFFERENT because the groups have statistically significant difference in their variability.\\n\\n\")\n",
    "    else:\n",
    "        print(f\"The p value is larger than alpha {alpha_value} which p is not significant -> Fail to reject the null hypothesis. The variances of the samples are SAME because the groups have non-statistically significant difference in their variability.\\n\\n\")\n",
    "\n",
    "check_variance_homogeneity_Levene(population_amount_donated, sample_amount_donated, \"population amount_donated\", \"10 samples' amount_donated\")"
   ]
  },
  {
   "cell_type": "code",
   "execution_count": 28,
   "metadata": {},
   "outputs": [
    {
     "data": {
      "text/plain": [
       "Index(['amount_donated', 'campaign_ID', 'category', 'anonymous', 'gender',\n",
       "       'same_last_name', 'empathy'],\n",
       "      dtype='object')"
      ]
     },
     "execution_count": 28,
     "metadata": {},
     "output_type": "execute_result"
    }
   ],
   "source": [
    "df.columns"
   ]
  },
  {
   "cell_type": "markdown",
   "metadata": {},
   "source": [
    "# Kruskal Wallis test\n",
    "non parametric test\n",
    "\n",
    "Assumptions for the test:\n",
    "\n",
    "At least one of the two large sample conditions are met.\n",
    "All the samples are random samples.\n",
    "All the populations being sampled have the same shaped probability density function, with possibly different means.\n",
    "The populations are independent.\n",
    "Hypothesis Testing H0 : μ1 =μ2 =μ3 =···=μk H1 : at least two μi differ.\n",
    "\n",
    "NOTE: The larger the differences the larger the test statistic H. This is why the test is only an upper tail test."
   ]
  },
  {
   "cell_type": "code",
   "execution_count": 29,
   "metadata": {},
   "outputs": [
    {
     "name": "stdout",
     "output_type": "stream",
     "text": [
      "degrees of freedom: 3\n",
      "The critical value X²U for the upper tail is 11.344866730144373\n"
     ]
    }
   ],
   "source": [
    "# Find the Chi-Square Critical Value\n",
    "import scipy.stats\n",
    "# find Chi-Square critical value for 2 tail hypothesis tests\n",
    "alpha = float(0.01)\n",
    "k = 4\n",
    "degree_freedom = k-1\n",
    "print(f'degrees of freedom: {(k-1)}')\n",
    "# X² for upper tail\n",
    "print(f'The critical value X²U for the upper tail is {scipy.stats.chi2.ppf(1-alpha, df=degree_freedom)}')\n"
   ]
  },
  {
   "cell_type": "code",
   "execution_count": 30,
   "metadata": {},
   "outputs": [
    {
     "name": "stdout",
     "output_type": "stream",
     "text": [
      "KruskalResult(statistic=5.189987508207936, pvalue=0.02271737954961619)\n"
     ]
    }
   ],
   "source": [
    "# Conduct the Kruskal-Wallis Test\n",
    "result = stats.kruskal(*[df['amount_donated'][df['same_last_name'] == same_last_name] for same_last_name in df.same_last_name.unique()])\n",
    "\n",
    "# Print the result\n",
    "print(result)"
   ]
  },
  {
   "cell_type": "code",
   "execution_count": 31,
   "metadata": {},
   "outputs": [
    {
     "name": "stdout",
     "output_type": "stream",
     "text": [
      "KruskalResult(statistic=41.20503661546272, pvalue=1.3706889201957182e-10)\n"
     ]
    }
   ],
   "source": [
    "# Conduct the Kruskal-Wallis Test\n",
    "result = stats.kruskal(*[df['amount_donated'][df['empathy'] == empathy] for empathy in df.empathy.unique()])\n",
    "\n",
    "# Print the result\n",
    "print(result)"
   ]
  },
  {
   "cell_type": "code",
   "execution_count": 32,
   "metadata": {},
   "outputs": [
    {
     "name": "stdout",
     "output_type": "stream",
     "text": [
      "KruskalResult(statistic=1.7408809598405584, pvalue=0.18702724201521487)\n"
     ]
    }
   ],
   "source": [
    "# Conduct the Kruskal-Wallis Test\n",
    "result = stats.kruskal(*[df['amount_donated'][df['anonymous'] == anonymous] for anonymous in df.anonymous.unique()])\n",
    "\n",
    "# Print the result\n",
    "print(result)"
   ]
  },
  {
   "cell_type": "markdown",
   "metadata": {},
   "source": [
    "### -----> OBSERVATION\n",
    "\n",
    "The critical value X²U for the upper tail rejection region is 11.344866730144373, using 3 degrees of freedom, so the rejection region is [ 11.34, ∞). Since the test statistic = 41.20503661546272, much larger than 11.34, falls in the rejection region, we reject the null hypothesis. There is evidence to indicate that the three means of the amount donated between expression of empathy either detected or not all the same."
   ]
  },
  {
   "cell_type": "markdown",
   "metadata": {},
   "source": [
    "\n",
    "<h3 style=\"color:#ffc0cb;font-size:50px;font-family:Georgia;text-align:center;\"><strong>Summary</strong></h3>\n",
    "\n",
    "+ The set of values 'campaign_ID','same_last_name','amount_donated','empathy','anonymous' are the unique identifier of the dataset\n",
    "+ We have several data problems like missing value, duplication, and data type.\n",
    "+ The dataset we have is not representative for all the donors (normality check visually and hypothesis testing)\n",
    "+ The same last name might be an evidence to indicate that the three means of the amount donated between expression of empathy either detected or not all the same.\n",
    "+ The donor and the recipient had the same last name might not impact much to the amount donated\n",
    "+ The donation was made anonymously to the public might not impact much to the amount donated\n",
    "+ How many comments that a donor can have?\n",
    "+ How many "
   ]
  }
 ],
 "metadata": {
  "kernelspec": {
   "display_name": "Python 3 (ipykernel)",
   "language": "python",
   "name": "python3"
  },
  "language_info": {
   "codemirror_mode": {
    "name": "ipython",
    "version": 3
   },
   "file_extension": ".py",
   "mimetype": "text/x-python",
   "name": "python",
   "nbconvert_exporter": "python",
   "pygments_lexer": "ipython3",
   "version": "3.9.12"
  },
  "vscode": {
   "interpreter": {
    "hash": "2e26d98c1e7126c87061cf470f7014fba8a943bafc56a9c0b8de9d8bfb111aa1"
   }
  }
 },
 "nbformat": 4,
 "nbformat_minor": 4
}
