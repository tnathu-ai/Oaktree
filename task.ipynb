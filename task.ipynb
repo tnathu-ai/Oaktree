{
 "cells": [
  {
   "attachments": {},
   "cell_type": "markdown",
   "metadata": {},
   "source": [
    "General description: these are the primary donation data analyzed in the paper, \"Examining charitable giving in real-world online donations\" \n",
    "published in Nature Communications in 2019 by Sisco and Weber. Each row represents one donation. \n",
    "\n",
    "-------Variables:\n",
    "\n",
    "amount_donated - the amount donated in US dollars.\n",
    "\n",
    "\n",
    "campaign_ID - an encrypted identifier for the campaign_ID. You can use this to tell which donations were made to the same campaign but not to trace the raw data back to the unencrypted campaign_ID. The encryption is to protect the privacy of the campaign creators and donors.\n",
    "\n",
    "\n",
    "category - the category of each campaign.\n",
    "\n",
    "\n",
    "anonymous - whether or not the donation was made anonymously to the public.\n",
    "\n",
    "\n",
    "gender - The gender of the current donor. \"F\" represents female and \"M\" represents male. These genders were estimated based on the public names of the donors. The algorithm used is provided in the supplementary materials for the paper.\n",
    "\n",
    "same_last_name - \"1\" means that the donor and the recipient had the same last name. \"0\" means that they did not (from what we could infer based on publicly displayed names). \n",
    "\n",
    "empathy - \"1\" means that an expression of empathy was detected in the message left by the current donor. \"0\" means that no expression of empathy was detected. The algorithm used is provided in the supplementary materials for the paper.\n"
   ]
  },
  {
   "attachments": {},
   "cell_type": "markdown",
   "metadata": {},
   "source": [
    "<h3 style=\"color:#ffc0cb;font-size:50px;font-family:Georgia;text-align:center;\"><strong>Task 1. Data Overview</strong></h3>"
   ]
  },
  {
   "cell_type": "code",
   "execution_count": 15,
   "metadata": {},
   "outputs": [],
   "source": [
    "# Import the libraries\n",
    "import pandas as pd\n",
    "import numpy as np"
   ]
  },
  {
   "attachments": {},
   "cell_type": "markdown",
   "metadata": {},
   "source": [
    "### Overviewing the Data\n",
    "* Dimension of the dataset, i.e. the number of rows and columns\n",
    "* What are the attributes?\n",
    "* What is the data type of each attribute? And what is its range?"
   ]
  },
  {
   "cell_type": "code",
   "execution_count": 4,
   "metadata": {},
   "outputs": [
    {
     "name": "stdout",
     "output_type": "stream",
     "text": [
      "Dimension of the dataset: number of rows: 11999, number of columns: 7\n",
      "<class 'pandas.core.frame.DataFrame'>\n",
      "RangeIndex: 11999 entries, 0 to 11998\n",
      "Data columns (total 7 columns):\n",
      " #   Column          Non-Null Count  Dtype  \n",
      "---  ------          --------------  -----  \n",
      " 0   amount_donated  11999 non-null  int64  \n",
      " 1   campaign_ID     11999 non-null  object \n",
      " 2   category        11894 non-null  object \n",
      " 3   anonymous       11999 non-null  int64  \n",
      " 4   gender          7133 non-null   object \n",
      " 5   same_last_name  11825 non-null  float64\n",
      " 6   empathy         11999 non-null  int64  \n",
      "dtypes: float64(1), int64(3), object(3)\n",
      "memory usage: 656.3+ KB\n",
      "Informations of the dataset: None\n"
     ]
    }
   ],
   "source": [
    "# read csv\n",
    "df = pd.read_csv('donor_data.csv')\n",
    "print(f'Dimension of the dataset: number of rows: {df.shape[0]}, number of columns: {df.shape[1]}')\n",
    "print(f'Informations of the dataset: {df.info()}')"
   ]
  },
  {
   "cell_type": "code",
   "execution_count": 5,
   "metadata": {},
   "outputs": [
    {
     "data": {
      "text/html": [
       "<div>\n",
       "<style scoped>\n",
       "    .dataframe tbody tr th:only-of-type {\n",
       "        vertical-align: middle;\n",
       "    }\n",
       "\n",
       "    .dataframe tbody tr th {\n",
       "        vertical-align: top;\n",
       "    }\n",
       "\n",
       "    .dataframe thead th {\n",
       "        text-align: right;\n",
       "    }\n",
       "</style>\n",
       "<table border=\"1\" class=\"dataframe\">\n",
       "  <thead>\n",
       "    <tr style=\"text-align: right;\">\n",
       "      <th></th>\n",
       "      <th>amount_donated</th>\n",
       "      <th>campaign_ID</th>\n",
       "      <th>category</th>\n",
       "      <th>anonymous</th>\n",
       "      <th>gender</th>\n",
       "      <th>same_last_name</th>\n",
       "      <th>empathy</th>\n",
       "    </tr>\n",
       "  </thead>\n",
       "  <tbody>\n",
       "    <tr>\n",
       "      <th>0</th>\n",
       "      <td>50</td>\n",
       "      <td>f3F1j8SbZZZIR/7Y9r8XUS2JwH4JNnU9zxa967TSlCAz</td>\n",
       "      <td>Medical</td>\n",
       "      <td>0</td>\n",
       "      <td>F</td>\n",
       "      <td>0.0</td>\n",
       "      <td>0</td>\n",
       "    </tr>\n",
       "    <tr>\n",
       "      <th>1</th>\n",
       "      <td>100</td>\n",
       "      <td>f3F1j8SbZZZIR/7Y9r8XUS2JwH4JNnU9zxa967TSlCAz</td>\n",
       "      <td>Medical</td>\n",
       "      <td>0</td>\n",
       "      <td>F</td>\n",
       "      <td>0.0</td>\n",
       "      <td>1</td>\n",
       "    </tr>\n",
       "    <tr>\n",
       "      <th>2</th>\n",
       "      <td>10</td>\n",
       "      <td>f3F1j8SbZZZIR/7Y9r8XUS2JwH4JNnU9zxa967TSlCAz</td>\n",
       "      <td>Medical</td>\n",
       "      <td>0</td>\n",
       "      <td>M</td>\n",
       "      <td>0.0</td>\n",
       "      <td>0</td>\n",
       "    </tr>\n",
       "  </tbody>\n",
       "</table>\n",
       "</div>"
      ],
      "text/plain": [
       "   amount_donated                                   campaign_ID category  \\\n",
       "0              50  f3F1j8SbZZZIR/7Y9r8XUS2JwH4JNnU9zxa967TSlCAz  Medical   \n",
       "1             100  f3F1j8SbZZZIR/7Y9r8XUS2JwH4JNnU9zxa967TSlCAz  Medical   \n",
       "2              10  f3F1j8SbZZZIR/7Y9r8XUS2JwH4JNnU9zxa967TSlCAz  Medical   \n",
       "\n",
       "   anonymous gender  same_last_name  empathy  \n",
       "0          0      F             0.0        0  \n",
       "1          0      F             0.0        1  \n",
       "2          0      M             0.0        0  "
      ]
     },
     "execution_count": 5,
     "metadata": {},
     "output_type": "execute_result"
    }
   ],
   "source": [
    "df.head(3)"
   ]
  },
  {
   "cell_type": "code",
   "execution_count": 6,
   "metadata": {},
   "outputs": [
    {
     "data": {
      "text/html": [
       "<div>\n",
       "<style scoped>\n",
       "    .dataframe tbody tr th:only-of-type {\n",
       "        vertical-align: middle;\n",
       "    }\n",
       "\n",
       "    .dataframe tbody tr th {\n",
       "        vertical-align: top;\n",
       "    }\n",
       "\n",
       "    .dataframe thead th {\n",
       "        text-align: right;\n",
       "    }\n",
       "</style>\n",
       "<table border=\"1\" class=\"dataframe\">\n",
       "  <thead>\n",
       "    <tr style=\"text-align: right;\">\n",
       "      <th></th>\n",
       "      <th>amount_donated</th>\n",
       "      <th>campaign_ID</th>\n",
       "      <th>category</th>\n",
       "      <th>anonymous</th>\n",
       "      <th>gender</th>\n",
       "      <th>same_last_name</th>\n",
       "      <th>empathy</th>\n",
       "    </tr>\n",
       "  </thead>\n",
       "  <tbody>\n",
       "    <tr>\n",
       "      <th>11996</th>\n",
       "      <td>25</td>\n",
       "      <td>O6D6pB+cgIR2I4snh43BNi6WyGYPNHU=</td>\n",
       "      <td>Community</td>\n",
       "      <td>0</td>\n",
       "      <td>F</td>\n",
       "      <td>0.0</td>\n",
       "      <td>0</td>\n",
       "    </tr>\n",
       "    <tr>\n",
       "      <th>11997</th>\n",
       "      <td>50</td>\n",
       "      <td>O6D6pB+cgIR2I4snh43BNi6WyGYPNHU=</td>\n",
       "      <td>Community</td>\n",
       "      <td>1</td>\n",
       "      <td>NaN</td>\n",
       "      <td>0.0</td>\n",
       "      <td>0</td>\n",
       "    </tr>\n",
       "    <tr>\n",
       "      <th>11998</th>\n",
       "      <td>25</td>\n",
       "      <td>O6D6pB+cgIR2I4snh43BNi6WyGYPNHU=</td>\n",
       "      <td>Community</td>\n",
       "      <td>0</td>\n",
       "      <td>F</td>\n",
       "      <td>0.0</td>\n",
       "      <td>0</td>\n",
       "    </tr>\n",
       "  </tbody>\n",
       "</table>\n",
       "</div>"
      ],
      "text/plain": [
       "       amount_donated                       campaign_ID   category  anonymous  \\\n",
       "11996              25  O6D6pB+cgIR2I4snh43BNi6WyGYPNHU=  Community          0   \n",
       "11997              50  O6D6pB+cgIR2I4snh43BNi6WyGYPNHU=  Community          1   \n",
       "11998              25  O6D6pB+cgIR2I4snh43BNi6WyGYPNHU=  Community          0   \n",
       "\n",
       "      gender  same_last_name  empathy  \n",
       "11996      F             0.0        0  \n",
       "11997    NaN             0.0        0  \n",
       "11998      F             0.0        0  "
      ]
     },
     "execution_count": 6,
     "metadata": {},
     "output_type": "execute_result"
    }
   ],
   "source": [
    "df.tail(3)"
   ]
  },
  {
   "attachments": {},
   "cell_type": "markdown",
   "metadata": {},
   "source": [
    "### --------> OBSERVATION\n",
    "\n",
    "+ We only have the `amount_donated` is a continuous numerical column \n",
    "\n",
    "+ I can see since the `describe` function assume all columns are categorical, it only summarizes all by count, unique, top, and frequency. Let's convert columns to their appropriate data type"
   ]
  },
  {
   "cell_type": "code",
   "execution_count": 7,
   "metadata": {},
   "outputs": [
    {
     "data": {
      "text/plain": [
       "count    11999.000000\n",
       "mean        94.636553\n",
       "std        204.020417\n",
       "min          2.000000\n",
       "25%         25.000000\n",
       "50%         50.000000\n",
       "75%        100.000000\n",
       "max       8980.000000\n",
       "Name: amount_donated, dtype: float64"
      ]
     },
     "execution_count": 7,
     "metadata": {},
     "output_type": "execute_result"
    }
   ],
   "source": [
    "# describe \n",
    "df.amount_donated.describe()"
   ]
  },
  {
   "cell_type": "code",
   "execution_count": 8,
   "metadata": {},
   "outputs": [
    {
     "data": {
      "text/plain": [
       "amount_donated    169\n",
       "campaign_ID       299\n",
       "category           20\n",
       "anonymous           2\n",
       "gender              2\n",
       "same_last_name      2\n",
       "empathy             2\n",
       "dtype: int64"
      ]
     },
     "execution_count": 8,
     "metadata": {},
     "output_type": "execute_result"
    }
   ],
   "source": [
    "# Number of unique values in each column\n",
    "df.nunique()"
   ]
  },
  {
   "attachments": {},
   "cell_type": "markdown",
   "metadata": {},
   "source": [
    "<h3 style=\"color:#ffc0cb;font-size:50px;font-family:Georgia;text-align:center;\"><strong>Task 2. Auditing and cleansing the loaded data</strong></h3>\n",
    "\n",
    "Identify data problems, fix them, and record the errors found and fixings in an error list.\n",
    "\n",
    "1. **Syntactical Anomalies**:\n",
    "anomalies concerning the format and values used for representation of the entities. Common syntactic anomalies are: lexical errors, domain format errors, syntactical error and irregularities.\n",
    "2. **Semantic Anomalies**:\n",
    "anomalies hindering the data collection from being a comprehensive and non-redundant representation of the mini-world. These types of anomalies include: integrity constraint violations, contradictions, duplicates and invalid tuples.\n",
    "3. **Coverage Anomalies**:\n",
    "anomalies decreasing the amount of entities and entity properties from the mini-world that are represented in the data collection. Coverage anomalies are categorized as: missing values and missing tuples.\n",
    "\n",
    "#### Creating an error recorder\n",
    "To record an error, we need:\n",
    "- `indexOfdf`: index of the record/row in the original dataset\n",
    "- `Id`: the id of the job advertisement that has the data issue. If the data issue involves all job records, just put “ALL”.\n",
    "- `ColumnName`: the name of the column that the data issue locates\n",
    "- `Original`: the original value of the cell\n",
    "- `Modified`: the modified value of the cell\n",
    "- `ErrorType` : the type of errors, for example, Missing Values, Violation of Integrity Constraint, Outliers, or any other errors found\n",
    "- `Fixing`: describe how this problem was fixed."
   ]
  },
  {
   "cell_type": "code",
   "execution_count": 9,
   "metadata": {},
   "outputs": [
    {
     "data": {
      "text/html": [
       "<div>\n",
       "<style scoped>\n",
       "    .dataframe tbody tr th:only-of-type {\n",
       "        vertical-align: middle;\n",
       "    }\n",
       "\n",
       "    .dataframe tbody tr th {\n",
       "        vertical-align: top;\n",
       "    }\n",
       "\n",
       "    .dataframe thead th {\n",
       "        text-align: right;\n",
       "    }\n",
       "</style>\n",
       "<table border=\"1\" class=\"dataframe\">\n",
       "  <thead>\n",
       "    <tr style=\"text-align: right;\">\n",
       "      <th></th>\n",
       "      <th>indexOfdf</th>\n",
       "      <th>Id</th>\n",
       "      <th>ColumnName</th>\n",
       "      <th>Original</th>\n",
       "      <th>Modified</th>\n",
       "      <th>ErrorType</th>\n",
       "      <th>Fixing</th>\n",
       "    </tr>\n",
       "  </thead>\n",
       "  <tbody>\n",
       "  </tbody>\n",
       "</table>\n",
       "</div>"
      ],
      "text/plain": [
       "Empty DataFrame\n",
       "Columns: [indexOfdf, Id, ColumnName, Original, Modified, ErrorType, Fixing]\n",
       "Index: []"
      ]
     },
     "execution_count": 9,
     "metadata": {},
     "output_type": "execute_result"
    }
   ],
   "source": [
    "# create and error recorder (i.e. the error_list)\n",
    "itemlist = ['indexOfdf','Id','ColumnName', 'Original', 'Modified', 'ErrorType','Fixing']\n",
    "error_list = pd.DataFrame(columns=itemlist)\n",
    "error_list"
   ]
  },
  {
   "cell_type": "code",
   "execution_count": 10,
   "metadata": {},
   "outputs": [
    {
     "data": {
      "text/plain": [
       "RangeIndex(start=0, stop=11999, step=1)"
      ]
     },
     "execution_count": 10,
     "metadata": {},
     "output_type": "execute_result"
    }
   ],
   "source": [
    "# Function for updating the error records\n",
    "\n",
    "# update error list by attributes\n",
    "def update_error_list(indexOfdf, Id, ColumnName, Orignal, Modified, ErrorType, Fixing):\n",
    "    errItem=[indexOfdf, Id, ColumnName, Orignal, Modified, ErrorType,Fixing]\n",
    "    error_list.loc[len(error_list)]=errItem\n",
    "\n",
    "# Obtain all indexes of the records in the dataframe:\n",
    "indices = df.index\n",
    "indices"
   ]
  },
  {
   "cell_type": "code",
   "execution_count": 11,
   "metadata": {},
   "outputs": [
    {
     "name": "stdout",
     "output_type": "stream",
     "text": [
      "<class 'pandas.core.frame.DataFrame'>\n",
      "RangeIndex: 11999 entries, 0 to 11998\n",
      "Data columns (total 7 columns):\n",
      " #   Column          Non-Null Count  Dtype  \n",
      "---  ------          --------------  -----  \n",
      " 0   amount_donated  11999 non-null  int64  \n",
      " 1   campaign_ID     11999 non-null  object \n",
      " 2   category        11894 non-null  object \n",
      " 3   anonymous       11999 non-null  int64  \n",
      " 4   gender          7133 non-null   object \n",
      " 5   same_last_name  11825 non-null  float64\n",
      " 6   empathy         11999 non-null  int64  \n",
      "dtypes: float64(1), int64(3), object(3)\n",
      "memory usage: 656.3+ KB\n"
     ]
    }
   ],
   "source": [
    "df.info()"
   ]
  },
  {
   "cell_type": "code",
   "execution_count": 16,
   "metadata": {},
   "outputs": [
    {
     "name": "stdout",
     "output_type": "stream",
     "text": [
      "Number of numeric columns:  4\n",
      "List of numeric columns:  ['amount_donated', 'anonymous', 'same_last_name', 'empathy'] \n",
      "\n",
      "Number of categorical columns:  3\n",
      "List of string columns:  ['campaign_ID', 'category', 'gender'] \n",
      "\n",
      "\n",
      "<class 'pandas.core.frame.DataFrame'>\n",
      "RangeIndex: 11999 entries, 0 to 11998\n",
      "Data columns (total 7 columns):\n",
      " #   Column          Non-Null Count  Dtype  \n",
      "---  ------          --------------  -----  \n",
      " 0   amount_donated  11999 non-null  Int64  \n",
      " 1   campaign_ID     11999 non-null  string \n",
      " 2   category        11894 non-null  string \n",
      " 3   anonymous       11999 non-null  boolean\n",
      " 4   gender          7133 non-null   string \n",
      " 5   same_last_name  11999 non-null  boolean\n",
      " 6   empathy         11999 non-null  boolean\n",
      "dtypes: Int64(1), boolean(3), string(3)\n",
      "memory usage: 457.1 KB\n"
     ]
    }
   ],
   "source": [
    "def coerce_df_columns_to_best_dtype(df, boolean_column_list):\n",
    "\n",
    "    # convert to boolean dtype\n",
    "    df[boolean_column_list] = df[boolean_column_list].astype('bool', errors='ignore')\n",
    "\n",
    "\n",
    "    # convert object columns to string datatype\n",
    "    df = df.convert_dtypes()\n",
    "\n",
    "    # select numeric columns\n",
    "    df_numeric = df.select_dtypes(include=[np.number]).columns.to_list()\n",
    "\n",
    "    # select non-numeric columns\n",
    "    df_string = df.select_dtypes(include='string').columns.tolist()\n",
    "\n",
    "    # print out the name and number of numeric column\n",
    "    print(\"Number of numeric columns: \", len(df_numeric))\n",
    "    print(\"List of numeric columns: \", df_numeric, \"\\n\")\n",
    "\n",
    "    # print out the name and number of categorical column\n",
    "    print(\"Number of categorical columns: \", len(df_string))\n",
    "    print(\"List of string columns: \", df_string, \"\\n\\n\")\n",
    "\n",
    "    # return datatype for each column after coercing\n",
    "    return df.info()\n",
    "\n",
    "# apply the coerce_df_columns_to_best_dtype function to the dataframe\n",
    "coerce_df_columns_to_best_dtype(df, ['anonymous', 'same_last_name','empathy'])\n",
    "\n",
    "# # record the problems and fixings\n",
    "# update_error_list('All', 'All', 'All', 'NA', 'NA', 'Parse all columns into requuired format', 'Convert to appropriate int, float, and datetime datatype')"
   ]
  },
  {
   "cell_type": "code",
   "execution_count": 10,
   "metadata": {},
   "outputs": [
    {
     "data": {
      "text/plain": [
       "amount_donated       0\n",
       "campaign_ID          0\n",
       "category           105\n",
       "anonymous            0\n",
       "gender            4866\n",
       "same_last_name     174\n",
       "empathy              0\n",
       "dtype: int64"
      ]
     },
     "execution_count": 10,
     "metadata": {},
     "output_type": "execute_result"
    }
   ],
   "source": [
    "# NUmber of missing values in each column\n",
    "df.isnull().sum()"
   ]
  },
  {
   "cell_type": "code",
   "execution_count": 37,
   "metadata": {},
   "outputs": [
    {
     "name": "stdout",
     "output_type": "stream",
     "text": [
      "Number of duplicated rows: 0\n"
     ]
    },
    {
     "data": {
      "text/html": [
       "<div>\n",
       "<style scoped>\n",
       "    .dataframe tbody tr th:only-of-type {\n",
       "        vertical-align: middle;\n",
       "    }\n",
       "\n",
       "    .dataframe tbody tr th {\n",
       "        vertical-align: top;\n",
       "    }\n",
       "\n",
       "    .dataframe thead th {\n",
       "        text-align: right;\n",
       "    }\n",
       "</style>\n",
       "<table border=\"1\" class=\"dataframe\">\n",
       "  <thead>\n",
       "    <tr style=\"text-align: right;\">\n",
       "      <th></th>\n",
       "      <th>amount_donated</th>\n",
       "      <th>campaign_ID</th>\n",
       "      <th>category</th>\n",
       "      <th>anonymous</th>\n",
       "      <th>gender</th>\n",
       "      <th>same_last_name</th>\n",
       "      <th>empathy</th>\n",
       "    </tr>\n",
       "  </thead>\n",
       "  <tbody>\n",
       "  </tbody>\n",
       "</table>\n",
       "</div>"
      ],
      "text/plain": [
       "Empty DataFrame\n",
       "Columns: [amount_donated, campaign_ID, category, anonymous, gender, same_last_name, empathy]\n",
       "Index: []"
      ]
     },
     "execution_count": 37,
     "metadata": {},
     "output_type": "execute_result"
    }
   ],
   "source": [
    "# check duplication in the dataset and show duplicated rows\n",
    "print(f'Number of duplicated rows: {df.duplicated().sum()}')\n",
    "# show duplicated rows\n",
    "df[df.duplicated()]"
   ]
  },
  {
   "cell_type": "code",
   "execution_count": 39,
   "metadata": {},
   "outputs": [
    {
     "name": "stdout",
     "output_type": "stream",
     "text": [
      "Number of rows after dropping duplicated rows: 5063\n"
     ]
    }
   ],
   "source": [
    "# drop duplicated rows\n",
    "df.drop_duplicates(inplace=True)\n",
    "# check the number of rows after dropping duplicated rows\n",
    "print(f'Number of rows after dropping duplicated rows: {df.shape[0]}')"
   ]
  },
  {
   "cell_type": "code",
   "execution_count": 24,
   "metadata": {},
   "outputs": [
    {
     "name": "stdout",
     "output_type": "stream",
     "text": [
      "Number of unique values in the category column: 20\n",
      "Frequency of each category in descending order:\n",
      "Sandy                6273\n",
      "Medical              2520\n",
      "Alberta Fires         906\n",
      "Charity               430\n",
      "Sports                341\n",
      "Family                258\n",
      "Business              229\n",
      "Events                213\n",
      "Creative              136\n",
      "Education             127\n",
      "Nepal                 121\n",
      "Volunteer              68\n",
      "Community              62\n",
      "Philippine Relief      54\n",
      "Newlyweds              52\n",
      "US Storms              37\n",
      "Travel                 27\n",
      "Faith                  19\n",
      "Ecuador                15\n",
      "Emergencies             6\n",
      "Name: category, dtype: int64\n"
     ]
    }
   ],
   "source": [
    "# check speeling for similarity between rows in categorical columns\n",
    "print(f'Number of unique values in the category column: {df.category.nunique()}')\n",
    "print(f'Frequency of each category in descending order:\\n{df.category.value_counts()}')"
   ]
  },
  {
   "cell_type": "code",
   "execution_count": 30,
   "metadata": {},
   "outputs": [
    {
     "name": "stdout",
     "output_type": "stream",
     "text": [
      "Correlation between the empathy column and the other columns:\n",
      "empathy           1.000000\n",
      "amount_donated    0.004352\n",
      "same_last_name    0.003049\n",
      "anonymous        -0.099264\n",
      "Name: empathy, dtype: float64\n"
     ]
    }
   ],
   "source": [
    "# the correlation between the empathy column and the other columns\n",
    "print(f'Correlation between the empathy column and the other columns:\\n{df.corr()[\"empathy\"].sort_values(ascending=False)}')"
   ]
  },
  {
   "cell_type": "code",
   "execution_count": 44,
   "metadata": {},
   "outputs": [
    {
     "name": "stdout",
     "output_type": "stream",
     "text": [
      "Correlation between the last name column and the other columns:\n",
      "same_last_name    1.000000\n",
      "amount_donated    0.020116\n",
      "empathy           0.003049\n",
      "anonymous        -0.050807\n",
      "Name: same_last_name, dtype: float64\n"
     ]
    }
   ],
   "source": [
    "# correlation between the same last name and other columns\n",
    "print(f'Correlation between the last name column and the other columns:\\n{df.corr()[\"same_last_name\"].sort_values(ascending=False)}')"
   ]
  },
  {
   "cell_type": "code",
   "execution_count": 47,
   "metadata": {},
   "outputs": [
    {
     "data": {
      "text/html": [
       "<div>\n",
       "<style scoped>\n",
       "    .dataframe tbody tr th:only-of-type {\n",
       "        vertical-align: middle;\n",
       "    }\n",
       "\n",
       "    .dataframe tbody tr th {\n",
       "        vertical-align: top;\n",
       "    }\n",
       "\n",
       "    .dataframe thead th {\n",
       "        text-align: right;\n",
       "    }\n",
       "</style>\n",
       "<table border=\"1\" class=\"dataframe\">\n",
       "  <thead>\n",
       "    <tr style=\"text-align: right;\">\n",
       "      <th></th>\n",
       "      <th>amount_donated</th>\n",
       "      <th>campaign_id</th>\n",
       "      <th>category</th>\n",
       "      <th>anonymous</th>\n",
       "      <th>gender</th>\n",
       "      <th>same_last_name</th>\n",
       "      <th>empathy</th>\n",
       "    </tr>\n",
       "  </thead>\n",
       "  <tbody>\n",
       "    <tr>\n",
       "      <th>0</th>\n",
       "      <td>50</td>\n",
       "      <td>f3F1j8SbZZZIR/7Y9r8XUS2JwH4JNnU9zxa967TSlCAz</td>\n",
       "      <td>medical</td>\n",
       "      <td>0</td>\n",
       "      <td>F</td>\n",
       "      <td>0.0</td>\n",
       "      <td>0</td>\n",
       "    </tr>\n",
       "    <tr>\n",
       "      <th>1</th>\n",
       "      <td>100</td>\n",
       "      <td>f3F1j8SbZZZIR/7Y9r8XUS2JwH4JNnU9zxa967TSlCAz</td>\n",
       "      <td>medical</td>\n",
       "      <td>0</td>\n",
       "      <td>F</td>\n",
       "      <td>0.0</td>\n",
       "      <td>1</td>\n",
       "    </tr>\n",
       "    <tr>\n",
       "      <th>2</th>\n",
       "      <td>10</td>\n",
       "      <td>f3F1j8SbZZZIR/7Y9r8XUS2JwH4JNnU9zxa967TSlCAz</td>\n",
       "      <td>medical</td>\n",
       "      <td>0</td>\n",
       "      <td>M</td>\n",
       "      <td>0.0</td>\n",
       "      <td>0</td>\n",
       "    </tr>\n",
       "  </tbody>\n",
       "</table>\n",
       "</div>"
      ],
      "text/plain": [
       "   amount_donated                                   campaign_id category  \\\n",
       "0              50  f3F1j8SbZZZIR/7Y9r8XUS2JwH4JNnU9zxa967TSlCAz  medical   \n",
       "1             100  f3F1j8SbZZZIR/7Y9r8XUS2JwH4JNnU9zxa967TSlCAz  medical   \n",
       "2              10  f3F1j8SbZZZIR/7Y9r8XUS2JwH4JNnU9zxa967TSlCAz  medical   \n",
       "\n",
       "   anonymous gender  same_last_name  empathy  \n",
       "0          0      F             0.0        0  \n",
       "1          0      F             0.0        1  \n",
       "2          0      M             0.0        0  "
      ]
     },
     "execution_count": 47,
     "metadata": {},
     "output_type": "execute_result"
    }
   ],
   "source": [
    "# Lowercase all the columns\n",
    "df.columns = df.columns.str.lower()\n",
    "df.head(3)"
   ]
  },
  {
   "cell_type": "code",
   "execution_count": null,
   "metadata": {},
   "outputs": [],
   "source": []
  }
 ],
 "metadata": {
  "kernelspec": {
   "display_name": "Advanced_Programming_for_Data_Science",
   "language": "python",
   "name": "python3"
  },
  "language_info": {
   "codemirror_mode": {
    "name": "ipython",
    "version": 3
   },
   "file_extension": ".py",
   "mimetype": "text/x-python",
   "name": "python",
   "nbconvert_exporter": "python",
   "pygments_lexer": "ipython3",
   "version": "3.10.4"
  },
  "orig_nbformat": 4,
  "vscode": {
   "interpreter": {
    "hash": "15bae30939a3a864e6f9ff9e7791f7070b527cf2ea25caf36584c7573d0fe449"
   }
  }
 },
 "nbformat": 4,
 "nbformat_minor": 2
}
